{
 "cells": [
  {
   "cell_type": "code",
   "execution_count": 13,
   "metadata": {},
   "outputs": [],
   "source": [
    "import pandas as pd\n",
    "import numpy as np"
   ]
  },
  {
   "cell_type": "code",
   "execution_count": 14,
   "metadata": {},
   "outputs": [],
   "source": [
    "import seaborn as sns\n",
    "import folium\n",
    "from folium import plugins\n",
    "from matplotlib import pyplot as plt"
   ]
  },
  {
   "cell_type": "code",
   "execution_count": 15,
   "metadata": {},
   "outputs": [],
   "source": [
    "nyc_data = pd.read_csv(\"/data/bikeshare/data/unified/nyc.csv\")\n",
    "boston_data = pd.read_csv(\"/data/bikeshare/data/unified/boston.csv\")\n",
    "main_data = pd.read_csv(\"/data/bikeshare/data/unified/merged.csv\")\n",
    "\n",
    "nyc = {'name':'New York City, NY', 'data':nyc_data}\n",
    "boston = {'name':'Boston, MA', 'data':boston_data}\n",
    "main = {'name':'All Data', 'data':main_data}"
   ]
  },
  {
   "cell_type": "code",
   "execution_count": 25,
   "metadata": {},
   "outputs": [
    {
     "data": {
      "text/html": [
       "<div>\n",
       "<style scoped>\n",
       "    .dataframe tbody tr th:only-of-type {\n",
       "        vertical-align: middle;\n",
       "    }\n",
       "\n",
       "    .dataframe tbody tr th {\n",
       "        vertical-align: top;\n",
       "    }\n",
       "\n",
       "    .dataframe thead th {\n",
       "        text-align: right;\n",
       "    }\n",
       "</style>\n",
       "<table border=\"1\" class=\"dataframe\">\n",
       "  <thead>\n",
       "    <tr style=\"text-align: right;\">\n",
       "      <th></th>\n",
       "      <th>Unnamed: 0</th>\n",
       "      <th>duration</th>\n",
       "      <th>start_time</th>\n",
       "      <th>end_time</th>\n",
       "      <th>start_station</th>\n",
       "      <th>end_station</th>\n",
       "      <th>start_lng</th>\n",
       "      <th>end_lng</th>\n",
       "      <th>start_lat</th>\n",
       "      <th>end_lat</th>\n",
       "      <th>user_type</th>\n",
       "      <th>birth_year</th>\n",
       "      <th>gender</th>\n",
       "    </tr>\n",
       "  </thead>\n",
       "  <tbody>\n",
       "    <tr>\n",
       "      <th>0</th>\n",
       "      <td>0</td>\n",
       "      <td>16.833333</td>\n",
       "      <td>2013-09-01 00:00:02</td>\n",
       "      <td>2013-09-01 00:16:52</td>\n",
       "      <td>W 11 St &amp; 6 Ave</td>\n",
       "      <td>Greenwich St &amp; Warren St</td>\n",
       "      <td>-73.998004</td>\n",
       "      <td>-74.011220</td>\n",
       "      <td>40.735324</td>\n",
       "      <td>40.715422</td>\n",
       "      <td>Member</td>\n",
       "      <td>1974.0</td>\n",
       "      <td>Male</td>\n",
       "    </tr>\n",
       "    <tr>\n",
       "      <th>1</th>\n",
       "      <td>1</td>\n",
       "      <td>24.050000</td>\n",
       "      <td>2013-09-01 00:00:09</td>\n",
       "      <td>2013-09-01 00:24:12</td>\n",
       "      <td>Cleveland Pl &amp; Spring St</td>\n",
       "      <td>E 17 St &amp; Broadway</td>\n",
       "      <td>-73.997203</td>\n",
       "      <td>-73.990093</td>\n",
       "      <td>40.721816</td>\n",
       "      <td>40.737050</td>\n",
       "      <td>Non-member</td>\n",
       "      <td>NaN</td>\n",
       "      <td>Unknown</td>\n",
       "    </tr>\n",
       "    <tr>\n",
       "      <th>2</th>\n",
       "      <td>2</td>\n",
       "      <td>23.116667</td>\n",
       "      <td>2013-09-01 00:00:16</td>\n",
       "      <td>2013-09-01 00:23:23</td>\n",
       "      <td>W 56 St &amp; 6 Ave</td>\n",
       "      <td>Washington St &amp; Gansevoort St</td>\n",
       "      <td>-73.977225</td>\n",
       "      <td>-74.008119</td>\n",
       "      <td>40.763406</td>\n",
       "      <td>40.739323</td>\n",
       "      <td>Member</td>\n",
       "      <td>1992.0</td>\n",
       "      <td>Male</td>\n",
       "    </tr>\n",
       "    <tr>\n",
       "      <th>3</th>\n",
       "      <td>3</td>\n",
       "      <td>6.750000</td>\n",
       "      <td>2013-09-01 00:00:18</td>\n",
       "      <td>2013-09-01 00:07:03</td>\n",
       "      <td>8 Ave &amp; W 33 St</td>\n",
       "      <td>W 20 St &amp; 11 Ave</td>\n",
       "      <td>-73.993934</td>\n",
       "      <td>-74.007756</td>\n",
       "      <td>40.751551</td>\n",
       "      <td>40.746745</td>\n",
       "      <td>Member</td>\n",
       "      <td>1973.0</td>\n",
       "      <td>Male</td>\n",
       "    </tr>\n",
       "    <tr>\n",
       "      <th>4</th>\n",
       "      <td>4</td>\n",
       "      <td>4.500000</td>\n",
       "      <td>2013-09-01 00:00:20</td>\n",
       "      <td>2013-09-01 00:04:50</td>\n",
       "      <td>St Marks Pl &amp; 2 Ave</td>\n",
       "      <td>E 5 St &amp; Avenue C</td>\n",
       "      <td>-73.987140</td>\n",
       "      <td>-73.979955</td>\n",
       "      <td>40.728419</td>\n",
       "      <td>40.722992</td>\n",
       "      <td>Member</td>\n",
       "      <td>1984.0</td>\n",
       "      <td>Male</td>\n",
       "    </tr>\n",
       "  </tbody>\n",
       "</table>\n",
       "</div>"
      ],
      "text/plain": [
       "   Unnamed: 0   duration           start_time             end_time  \\\n",
       "0           0  16.833333  2013-09-01 00:00:02  2013-09-01 00:16:52   \n",
       "1           1  24.050000  2013-09-01 00:00:09  2013-09-01 00:24:12   \n",
       "2           2  23.116667  2013-09-01 00:00:16  2013-09-01 00:23:23   \n",
       "3           3   6.750000  2013-09-01 00:00:18  2013-09-01 00:07:03   \n",
       "4           4   4.500000  2013-09-01 00:00:20  2013-09-01 00:04:50   \n",
       "\n",
       "              start_station                    end_station  start_lng  \\\n",
       "0           W 11 St & 6 Ave       Greenwich St & Warren St -73.998004   \n",
       "1  Cleveland Pl & Spring St             E 17 St & Broadway -73.997203   \n",
       "2           W 56 St & 6 Ave  Washington St & Gansevoort St -73.977225   \n",
       "3           8 Ave & W 33 St               W 20 St & 11 Ave -73.993934   \n",
       "4       St Marks Pl & 2 Ave              E 5 St & Avenue C -73.987140   \n",
       "\n",
       "     end_lng  start_lat    end_lat   user_type  birth_year   gender  \n",
       "0 -74.011220  40.735324  40.715422      Member      1974.0     Male  \n",
       "1 -73.990093  40.721816  40.737050  Non-member         NaN  Unknown  \n",
       "2 -74.008119  40.763406  40.739323      Member      1992.0     Male  \n",
       "3 -74.007756  40.751551  40.746745      Member      1973.0     Male  \n",
       "4 -73.979955  40.728419  40.722992      Member      1984.0     Male  "
      ]
     },
     "execution_count": 25,
     "metadata": {},
     "output_type": "execute_result"
    }
   ],
   "source": [
    "nyc_data.head()"
   ]
  },
  {
   "cell_type": "markdown",
   "metadata": {},
   "source": [
    "### Gender and gender by usertype distribution"
   ]
  },
  {
   "cell_type": "code",
   "execution_count": 16,
   "metadata": {},
   "outputs": [],
   "source": [
    "def riders_by_gender(data):\n",
    "    gender = data['data'].gender\n",
    "    gender_plot = sns.countplot(x = 'gender', data=data['data'])"
   ]
  },
  {
   "cell_type": "code",
   "execution_count": 17,
   "metadata": {},
   "outputs": [],
   "source": [
    "def gender_by_user_type(data):\n",
    "    gender_by_usertype = sns.countplot(x = 'user_type', hue = 'gender', data = data['data'])"
   ]
  },
  {
   "cell_type": "code",
   "execution_count": 18,
   "metadata": {},
   "outputs": [
    {
     "data": {
      "image/png": "[encoded data removed]",
      "text/plain": [
       "<Figure size 432x288 with 1 Axes>"
      ]
     },
     "metadata": {},
     "output_type": "display_data"
    }
   ],
   "source": [
    "riders_by_gender(nyc)"
   ]
  },
  {
   "cell_type": "code",
   "execution_count": 20,
   "metadata": {},
   "outputs": [
    {
     "data": {
      "image/png": "[encoded data removed]",
      "text/plain": [
       "<Figure size 432x288 with 1 Axes>"
      ]
     },
     "metadata": {},
     "output_type": "display_data"
    }
   ],
   "source": [
    "riders_by_gender(boston)"
   ]
  },
  {
   "cell_type": "markdown",
   "metadata": {},
   "source": [
    "Throughout the bar plot, we can easily observe that the number of the make bikeshare is higher third times as that of the female bikeshare. Moreover, all female and male are subscriber (annual member) and all unknown people are customer (24-hour pass or 3-day pass user - non-member)."
   ]
  },
  {
   "cell_type": "markdown",
   "metadata": {},
   "source": [
    "## Map of start station and end station"
   ]
  },
  {
   "cell_type": "code",
   "execution_count": 53,
   "metadata": {},
   "outputs": [],
   "source": [
    "start_station_name = nyc_data.start_station.values"
   ]
  },
  {
   "cell_type": "code",
   "execution_count": 54,
   "metadata": {
    "scrolled": true
   },
   "outputs": [
    {
     "data": {
      "text/html": [
       "<div style=\"width:100%;\"><div style=\"position:relative;width:100%;height:0;padding-bottom:60%;\"><iframe src=\"data:text/html;charset=utf-8;base64,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\" style=\"position:absolute;width:100%;height:100%;left:0;top:0;border:none !important;\" allowfullscreen webkitallowfullscreen mozallowfullscreen></iframe></div></div>"
      ],
      "text/plain": [
       "<folium.folium.Map at 0x1aa105d160>"
      ]
     },
     "execution_count": 54,
     "metadata": {},
     "output_type": "execute_result"
    }
   ],
   "source": [
    "stop_map = folium.Map(location = [40.735324, -73.998004], zoom_start = 11)\n",
    "stop_map"
   ]
  },
  {
   "cell_type": "code",
   "execution_count": 52,
   "metadata": {},
   "outputs": [
    {
     "ename": "NameError",
     "evalue": "name 'df_rmd' is not defined",
     "output_type": "error",
     "traceback": [
      "\u001b[0;31m---------------------------------------------------------------------------\u001b[0m",
      "\u001b[0;31mNameError\u001b[0m                                 Traceback (most recent call last)",
      "\u001b[0;32m<ipython-input-52-f2e2d6b946b2>\u001b[0m in \u001b[0;36m<module>\u001b[0;34m()\u001b[0m\n\u001b[0;32m----> 1\u001b[0;31m \u001b[0mstart_location\u001b[0m \u001b[0;34m=\u001b[0m \u001b[0mdf_rmd\u001b[0m\u001b[0;34m[\u001b[0m\u001b[0;34m[\u001b[0m\u001b[0;34m'start_lat'\u001b[0m\u001b[0;34m,\u001b[0m \u001b[0;34m'start_lng'\u001b[0m\u001b[0;34m]\u001b[0m\u001b[0;34m]\u001b[0m\u001b[0;34m.\u001b[0m\u001b[0mas_matrix\u001b[0m\u001b[0;34m(\u001b[0m\u001b[0;34m)\u001b[0m\u001b[0;34m\u001b[0m\u001b[0m\n\u001b[0m",
      "\u001b[0;31mNameError\u001b[0m: name 'df_rmd' is not defined"
     ]
    }
   ],
   "source": [
    "start_location = df_rmd[['start_lat', 'start_lng']].as_matrix()"
   ]
  },
  {
   "cell_type": "code",
   "execution_count": 39,
   "metadata": {},
   "outputs": [],
   "source": [
    "# for index, row in df_rmd.iterrows():\n",
    "#     folium.CircleMarker([row['start_lat'], row['start_lng']], radius = 15, popup = row['start_station'], fill_color = \"#3db7e4\").add_to(stop_map)\n",
    "# stop_map    "
   ]
  },
  {
   "cell_type": "code",
   "execution_count": 40,
   "metadata": {},
   "outputs": [],
   "source": [
    "# stop_map.add_child(plugins.HeatMap(start_location, radius=15))\n",
    "# stop_map"
   ]
  },
  {
   "cell_type": "code",
   "execution_count": 55,
   "metadata": {},
   "outputs": [],
   "source": [
    "# How many trips went from Station A all the way to Station A\n",
    "def plot_same_station_located(tripDuration):\n",
    "    tripDuration[tripDuration < tripDuration.quantile(.95)].plot(kind='hist')\n",
    "    plt.xlabel('time (minutes)')\n",
    "    plt.title('General Trip Duration Distribution')\n",
    "    \n",
    "def same_station_located(data):\n",
    "    totalTrips = len(data)\n",
    "    same_station = data[data.start_station == data.end_station]\n",
    "    tripDuration = same_station['duration']\n",
    "    print ('Total number of trips: {:,}'.format(totalTrips))\n",
    "    print (('Trips from A -> A: {:,}').format(len(same_station)))\n",
    "    print (('Trips from A -> A: {:.1%}').format(len(same_station) / totalTrips))\n",
    "    print (tripDuration.describe())\n",
    "    # check out trip in minutes distribution\n",
    "    return plot_same_station_located(tripDuration)"
   ]
  },
  {
   "cell_type": "code",
   "execution_count": 56,
   "metadata": {},
   "outputs": [
    {
     "name": "stdout",
     "output_type": "stream",
     "text": [
      "Total number of trips: 5,562,321\n",
      "Trips from A -> A: 137,027\n",
      "Trips from A -> A: 2.5%\n",
      "count    137027.000000\n",
      "mean         23.085907\n",
      "std          70.636620\n",
      "min           1.000000\n",
      "25%           3.250000\n",
      "50%          12.983333\n",
      "75%          28.966667\n",
      "max       10019.616667\n",
      "Name: duration, dtype: float64\n"
     ]
    },
    {
     "data": {
      "text/plain": [
       "6           1.916667\n",
       "43          1.216667\n",
       "76          1.250000\n",
       "78         17.633333\n",
       "151         2.933333\n",
       "156        10.100000\n",
       "177         2.966667\n",
       "244        27.200000\n",
       "251        26.383333\n",
       "252         9.066667\n",
       "268        10.400000\n",
       "282         6.916667\n",
       "316         2.083333\n",
       "327        23.150000\n",
       "414         8.900000\n",
       "443         1.583333\n",
       "447        13.383333\n",
       "495         1.100000\n",
       "513         3.116667\n",
       "524         1.066667\n",
       "552         2.166667\n",
       "562         1.100000\n",
       "569         9.600000\n",
       "585        30.433333\n",
       "614         1.700000\n",
       "628         6.200000\n",
       "632        38.383333\n",
       "643         4.516667\n",
       "652         4.900000\n",
       "669         1.866667\n",
       "             ...    \n",
       "5561119     7.150000\n",
       "5561144     1.100000\n",
       "5561159     2.366667\n",
       "5561173     1.116667\n",
       "5561193     4.200000\n",
       "5561210     9.250000\n",
       "5561226     6.983333\n",
       "5561418     1.500000\n",
       "5561449     1.016667\n",
       "5561456     3.100000\n",
       "5561497     1.033333\n",
       "5561624    32.250000\n",
       "5561638     1.133333\n",
       "5561716     2.966667\n",
       "5561719     2.300000\n",
       "5561732     1.933333\n",
       "5561747     6.200000\n",
       "5561787     2.500000\n",
       "5561833    13.133333\n",
       "5561841    23.600000\n",
       "5561846    23.483333\n",
       "5561850    22.816667\n",
       "5561945    18.816667\n",
       "5561995    17.166667\n",
       "5562019     2.466667\n",
       "5562067     6.683333\n",
       "5562095    11.533333\n",
       "5562135    14.116667\n",
       "5562264     2.050000\n",
       "5562302    24.583333\n",
       "Name: duration, Length: 137027, dtype: float64"
      ]
     },
     "execution_count": 56,
     "metadata": {},
     "output_type": "execute_result"
    }
   ],
   "source": [
    "same_station_located(nyc_data)"
   ]
  },
  {
   "cell_type": "code",
   "execution_count": 40,
   "metadata": {},
   "outputs": [
    {
     "name": "stdout",
     "output_type": "stream",
     "text": [
      "Total number of trips: 1,579,025\n",
      "Trips from A -> A: 76,311\n",
      "Trips from A -> A: 4.8%\n",
      "count    7.631100e+04\n",
      "mean     3.247803e+03\n",
      "std      1.445736e+04\n",
      "min      0.000000e+00\n",
      "25%      5.400000e+02\n",
      "50%      1.527000e+03\n",
      "75%      3.474000e+03\n",
      "max      2.645243e+06\n",
      "Name: duration, dtype: float64\n"
     ]
    }
   ],
   "source": [
    "same_station_located(boston_data)"
   ]
  },
  {
   "cell_type": "code",
   "execution_count": 65,
   "metadata": {},
   "outputs": [
    {
     "data": {
      "text/plain": [
       "Text(0.5,1,'General Trip Duration Distribution')"
      ]
     },
     "execution_count": 65,
     "metadata": {},
     "output_type": "execute_result"
    },
    {
     "data": {
      "image/png": "[encoded data removed]",
      "text/plain": [
       "<matplotlib.figure.Figure at 0x11ae22c18>"
      ]
     },
     "metadata": {},
     "output_type": "display_data"
    }
   ],
   "source": []
  },
  {
   "cell_type": "code",
   "execution_count": 63,
   "metadata": {},
   "outputs": [
    {
     "name": "stderr",
     "output_type": "stream",
     "text": [
      "/anaconda3/lib/python3.6/site-packages/ipykernel_launcher.py:2: UserWarning: Boolean Series key will be reindexed to match DataFrame index.\n",
      "  \n"
     ]
    },
    {
     "data": {
      "text/plain": [
       "Text(0.5,1,'Distribution of same station trip by user type')"
      ]
     },
     "execution_count": 63,
     "metadata": {},
     "output_type": "execute_result"
    },
    {
     "data": {
      "image/png": "[encoded data removed]",
      "text/plain": [
       "<matplotlib.figure.Figure at 0x10fa3a2e8>"
      ]
     },
     "metadata": {},
     "output_type": "display_data"
    }
   ],
   "source": [
    "# distribution grouped by subscriber type\n",
    "same_station[tripDuration < tripDuration.quantile(.95)].groupby('user_type')['duration'].plot(kind='hist', stacked=True, legend=True)\n",
    "plt.xlabel('time (minutes)')\n",
    "plt.title('Distribution of same station trip by user type')"
   ]
  },
  {
   "cell_type": "markdown",
   "metadata": {},
   "source": [
    "The first 30 minutes of each ride are included in the price of the pass, and you can take as many rides as you want while your pass is active. If you keep a bike out for more than 30 minutes at a time, it's an extra $4 per additional 15 minutes.\n",
    "Therefore, I will look up for the distribution of trip duration less than 30 minutes"
   ]
  },
  {
   "cell_type": "code",
   "execution_count": 60,
   "metadata": {},
   "outputs": [
    {
     "data": {
      "text/plain": [
       "Text(0.5,1,'Trip Duration (<30) distribution')"
      ]
     },
     "execution_count": 60,
     "metadata": {},
     "output_type": "execute_result"
    },
    {
     "data": {
      "image/png": "[encoded data removed]",
      "text/plain": [
       "<matplotlib.figure.Figure at 0x11a7130b8>"
      ]
     },
     "metadata": {},
     "output_type": "display_data"
    }
   ],
   "source": [
    "same_station[same_station['duration'] < 30] \\\n",
    "    .groupby('user_type')['duration'] \\\n",
    "    .plot(kind='hist', stacked=True, legend=True, bins=20)\n",
    "plt.xlabel('time (minutes)')\n",
    "plt.title('Trip Duration (<30) distribution')"
   ]
  },
  {
   "cell_type": "markdown",
   "metadata": {},
   "source": [
    "We notice that lots of trip duration are less than 3 minutes. We can regard less than three-minute trip duration is the accidental checkouts."
   ]
  },
  {
   "cell_type": "code",
   "execution_count": 47,
   "metadata": {},
   "outputs": [
    {
     "name": "stdout",
     "output_type": "stream",
     "text": [
      "The number of accidental checkouts is about 32668\n"
     ]
    }
   ],
   "source": [
    "# Approximate the number of accidental checkouts\n",
    "old_count = len(same_station)\n",
    "same_station = same_station[same_station.duration >3]\n",
    "new_count = len(same_station)\n",
    "accidental_checkout = old_count - new_count\n",
    "print('The number of accidental checkouts is about {}'.format(accidental_checkout))"
   ]
  },
  {
   "cell_type": "code",
   "execution_count": 58,
   "metadata": {},
   "outputs": [
    {
     "data": {
      "text/plain": [
       "Text(0.5,1,'Duration Distribution without the accidental checkouts')"
      ]
     },
     "execution_count": 58,
     "metadata": {},
     "output_type": "execute_result"
    },
    {
     "data": {
      "image/png": "[encoded data removed]",
      "text/plain": [
       "<matplotlib.figure.Figure at 0x1154de2b0>"
      ]
     },
     "metadata": {},
     "output_type": "display_data"
    }
   ],
   "source": [
    "# Examine the < 30 minutes trip duration again after dropping the accidental checkouts\n",
    "same_station[same_station['duration'] < 30] \\\n",
    "    .groupby('user_type')['duration'] \\\n",
    "    .plot(kind='hist', stacked=True, legend=True, bins=20)\n",
    "plt.xlabel('time (minutes)')\n",
    "plt.title('Duration Distribution without the accidental checkouts')"
   ]
  },
  {
   "cell_type": "code",
   "execution_count": null,
   "metadata": {},
   "outputs": [],
   "source": []
  }
 ],
 "metadata": {
  "kernelspec": {
   "display_name": "Python 3",
   "language": "python",
   "name": "python3"
  },
  "language_info": {
   "codemirror_mode": {
    "name": "ipython",
    "version": 3
   },
   "file_extension": ".py",
   "mimetype": "text/x-python",
   "name": "python",
   "nbconvert_exporter": "python",
   "pygments_lexer": "ipython3",
   "version": "3.6.4"
  }
 },
 "nbformat": 4,
 "nbformat_minor": 2
}
