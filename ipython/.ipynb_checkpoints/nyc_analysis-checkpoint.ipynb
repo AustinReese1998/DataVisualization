{
 "cells": [
  {
   "cell_type": "markdown",
   "metadata": {},
   "source": [
    "Author: Giang Nguyen <br>\n",
    "Organization: Luther College"
   ]
  },
  {
   "cell_type": "code",
   "execution_count": 3,
   "metadata": {},
   "outputs": [],
   "source": [
    "import pandas as pd\n",
    "import numpy as np\n",
    "import seaborn as sns\n",
    "import folium\n",
    "from folium import plugins"
   ]
  },
  {
   "cell_type": "code",
   "execution_count": 4,
   "metadata": {},
   "outputs": [],
   "source": [
    "df = pd.read_csv(\"/data/bikeshare/data/nyc/nyc.csv\")\n",
    "station_df = pd.read_json(\"/data/bikeshare/data/nyc/stations.json\")"
   ]
  },
  {
   "cell_type": "code",
   "execution_count": 5,
   "metadata": {},
   "outputs": [
    {
     "data": {
      "text/html": [
       "<div>\n",
       "<style scoped>\n",
       "    .dataframe tbody tr th:only-of-type {\n",
       "        vertical-align: middle;\n",
       "    }\n",
       "\n",
       "    .dataframe tbody tr th {\n",
       "        vertical-align: top;\n",
       "    }\n",
       "\n",
       "    .dataframe thead th {\n",
       "        text-align: right;\n",
       "    }\n",
       "</style>\n",
       "<table border=\"1\" class=\"dataframe\">\n",
       "  <thead>\n",
       "    <tr style=\"text-align: right;\">\n",
       "      <th></th>\n",
       "      <th>tripduration</th>\n",
       "      <th>starttime</th>\n",
       "      <th>stoptime</th>\n",
       "      <th>start station id</th>\n",
       "      <th>start station name</th>\n",
       "      <th>start station latitude</th>\n",
       "      <th>start station longitude</th>\n",
       "      <th>end station id</th>\n",
       "      <th>end station name</th>\n",
       "      <th>end station latitude</th>\n",
       "      <th>end station longitude</th>\n",
       "      <th>bikeid</th>\n",
       "      <th>usertype</th>\n",
       "      <th>birth year</th>\n",
       "      <th>gender</th>\n",
       "    </tr>\n",
       "  </thead>\n",
       "  <tbody>\n",
       "    <tr>\n",
       "      <th>0</th>\n",
       "      <td>1010</td>\n",
       "      <td>2013-09-01 00:00:02</td>\n",
       "      <td>2013-09-01 00:16:52</td>\n",
       "      <td>254</td>\n",
       "      <td>W 11 St &amp; 6 Ave</td>\n",
       "      <td>40.735324</td>\n",
       "      <td>-73.998004</td>\n",
       "      <td>147</td>\n",
       "      <td>Greenwich St &amp; Warren St</td>\n",
       "      <td>40.715422</td>\n",
       "      <td>-74.011220</td>\n",
       "      <td>15014</td>\n",
       "      <td>Subscriber</td>\n",
       "      <td>1974</td>\n",
       "      <td>1</td>\n",
       "    </tr>\n",
       "    <tr>\n",
       "      <th>1</th>\n",
       "      <td>1443</td>\n",
       "      <td>2013-09-01 00:00:09</td>\n",
       "      <td>2013-09-01 00:24:12</td>\n",
       "      <td>151</td>\n",
       "      <td>Cleveland Pl &amp; Spring St</td>\n",
       "      <td>40.721816</td>\n",
       "      <td>-73.997203</td>\n",
       "      <td>497</td>\n",
       "      <td>E 17 St &amp; Broadway</td>\n",
       "      <td>40.737050</td>\n",
       "      <td>-73.990093</td>\n",
       "      <td>19393</td>\n",
       "      <td>Customer</td>\n",
       "      <td>\\N</td>\n",
       "      <td>0</td>\n",
       "    </tr>\n",
       "    <tr>\n",
       "      <th>2</th>\n",
       "      <td>1387</td>\n",
       "      <td>2013-09-01 00:00:16</td>\n",
       "      <td>2013-09-01 00:23:23</td>\n",
       "      <td>352</td>\n",
       "      <td>W 56 St &amp; 6 Ave</td>\n",
       "      <td>40.763406</td>\n",
       "      <td>-73.977225</td>\n",
       "      <td>405</td>\n",
       "      <td>Washington St &amp; Gansevoort St</td>\n",
       "      <td>40.739323</td>\n",
       "      <td>-74.008119</td>\n",
       "      <td>16160</td>\n",
       "      <td>Subscriber</td>\n",
       "      <td>1992</td>\n",
       "      <td>1</td>\n",
       "    </tr>\n",
       "    <tr>\n",
       "      <th>3</th>\n",
       "      <td>405</td>\n",
       "      <td>2013-09-01 00:00:18</td>\n",
       "      <td>2013-09-01 00:07:03</td>\n",
       "      <td>490</td>\n",
       "      <td>8 Ave &amp; W 33 St</td>\n",
       "      <td>40.751551</td>\n",
       "      <td>-73.993934</td>\n",
       "      <td>459</td>\n",
       "      <td>W 20 St &amp; 11 Ave</td>\n",
       "      <td>40.746745</td>\n",
       "      <td>-74.007756</td>\n",
       "      <td>14997</td>\n",
       "      <td>Subscriber</td>\n",
       "      <td>1973</td>\n",
       "      <td>1</td>\n",
       "    </tr>\n",
       "    <tr>\n",
       "      <th>4</th>\n",
       "      <td>270</td>\n",
       "      <td>2013-09-01 00:00:20</td>\n",
       "      <td>2013-09-01 00:04:50</td>\n",
       "      <td>236</td>\n",
       "      <td>St Marks Pl &amp; 2 Ave</td>\n",
       "      <td>40.728419</td>\n",
       "      <td>-73.987140</td>\n",
       "      <td>393</td>\n",
       "      <td>E 5 St &amp; Avenue C</td>\n",
       "      <td>40.722992</td>\n",
       "      <td>-73.979955</td>\n",
       "      <td>19609</td>\n",
       "      <td>Subscriber</td>\n",
       "      <td>1984</td>\n",
       "      <td>1</td>\n",
       "    </tr>\n",
       "  </tbody>\n",
       "</table>\n",
       "</div>"
      ],
      "text/plain": [
       "   tripduration            starttime             stoptime  start station id  \\\n",
       "0          1010  2013-09-01 00:00:02  2013-09-01 00:16:52               254   \n",
       "1          1443  2013-09-01 00:00:09  2013-09-01 00:24:12               151   \n",
       "2          1387  2013-09-01 00:00:16  2013-09-01 00:23:23               352   \n",
       "3           405  2013-09-01 00:00:18  2013-09-01 00:07:03               490   \n",
       "4           270  2013-09-01 00:00:20  2013-09-01 00:04:50               236   \n",
       "\n",
       "         start station name  start station latitude  start station longitude  \\\n",
       "0           W 11 St & 6 Ave               40.735324               -73.998004   \n",
       "1  Cleveland Pl & Spring St               40.721816               -73.997203   \n",
       "2           W 56 St & 6 Ave               40.763406               -73.977225   \n",
       "3           8 Ave & W 33 St               40.751551               -73.993934   \n",
       "4       St Marks Pl & 2 Ave               40.728419               -73.987140   \n",
       "\n",
       "   end station id               end station name  end station latitude  \\\n",
       "0             147       Greenwich St & Warren St             40.715422   \n",
       "1             497             E 17 St & Broadway             40.737050   \n",
       "2             405  Washington St & Gansevoort St             40.739323   \n",
       "3             459               W 20 St & 11 Ave             40.746745   \n",
       "4             393              E 5 St & Avenue C             40.722992   \n",
       "\n",
       "   end station longitude  bikeid    usertype birth year  gender  \n",
       "0             -74.011220   15014  Subscriber       1974       1  \n",
       "1             -73.990093   19393    Customer         \\N       0  \n",
       "2             -74.008119   16160  Subscriber       1992       1  \n",
       "3             -74.007756   14997  Subscriber       1973       1  \n",
       "4             -73.979955   19609  Subscriber       1984       1  "
      ]
     },
     "execution_count": 5,
     "metadata": {},
     "output_type": "execute_result"
    }
   ],
   "source": [
    "df.head()\n"
   ]
  },
  {
   "cell_type": "markdown",
   "metadata": {},
   "source": [
    "* 10 most popular station\n",
    "* distribution of tripduration (plot)\n",
    "* geopandas (location map)"
   ]
  },
  {
   "cell_type": "code",
   "execution_count": 6,
   "metadata": {},
   "outputs": [
    {
     "data": {
      "text/html": [
       "<div>\n",
       "<style scoped>\n",
       "    .dataframe tbody tr th:only-of-type {\n",
       "        vertical-align: middle;\n",
       "    }\n",
       "\n",
       "    .dataframe tbody tr th {\n",
       "        vertical-align: top;\n",
       "    }\n",
       "\n",
       "    .dataframe thead th {\n",
       "        text-align: right;\n",
       "    }\n",
       "</style>\n",
       "<table border=\"1\" class=\"dataframe\">\n",
       "  <thead>\n",
       "    <tr style=\"text-align: right;\">\n",
       "      <th></th>\n",
       "      <th>executionTime</th>\n",
       "      <th>stationBeanList</th>\n",
       "    </tr>\n",
       "  </thead>\n",
       "  <tbody>\n",
       "    <tr>\n",
       "      <th>0</th>\n",
       "      <td>2018-11-13 12:44:55 PM</td>\n",
       "      <td>{'id': 304, 'stationName': 'Broadway &amp; Battery...</td>\n",
       "    </tr>\n",
       "    <tr>\n",
       "      <th>1</th>\n",
       "      <td>2018-11-13 12:44:55 PM</td>\n",
       "      <td>{'id': 359, 'stationName': 'E 47 St &amp; Park Ave...</td>\n",
       "    </tr>\n",
       "    <tr>\n",
       "      <th>2</th>\n",
       "      <td>2018-11-13 12:44:55 PM</td>\n",
       "      <td>{'id': 377, 'stationName': '6 Ave &amp; Canal St',...</td>\n",
       "    </tr>\n",
       "    <tr>\n",
       "      <th>3</th>\n",
       "      <td>2018-11-13 12:44:55 PM</td>\n",
       "      <td>{'id': 402, 'stationName': 'Broadway &amp; E 22 St...</td>\n",
       "    </tr>\n",
       "    <tr>\n",
       "      <th>4</th>\n",
       "      <td>2018-11-13 12:44:55 PM</td>\n",
       "      <td>{'id': 487, 'stationName': 'E 20 St &amp; FDR Driv...</td>\n",
       "    </tr>\n",
       "  </tbody>\n",
       "</table>\n",
       "</div>"
      ],
      "text/plain": [
       "            executionTime                                    stationBeanList\n",
       "0  2018-11-13 12:44:55 PM  {'id': 304, 'stationName': 'Broadway & Battery...\n",
       "1  2018-11-13 12:44:55 PM  {'id': 359, 'stationName': 'E 47 St & Park Ave...\n",
       "2  2018-11-13 12:44:55 PM  {'id': 377, 'stationName': '6 Ave & Canal St',...\n",
       "3  2018-11-13 12:44:55 PM  {'id': 402, 'stationName': 'Broadway & E 22 St...\n",
       "4  2018-11-13 12:44:55 PM  {'id': 487, 'stationName': 'E 20 St & FDR Driv..."
      ]
     },
     "execution_count": 6,
     "metadata": {},
     "output_type": "execute_result"
    }
   ],
   "source": [
    "station_df.head()"
   ]
  },
  {
   "cell_type": "code",
   "execution_count": 7,
   "metadata": {},
   "outputs": [
    {
     "data": {
      "text/html": [
       "<div>\n",
       "<style scoped>\n",
       "    .dataframe tbody tr th:only-of-type {\n",
       "        vertical-align: middle;\n",
       "    }\n",
       "\n",
       "    .dataframe tbody tr th {\n",
       "        vertical-align: top;\n",
       "    }\n",
       "\n",
       "    .dataframe thead th {\n",
       "        text-align: right;\n",
       "    }\n",
       "</style>\n",
       "<table border=\"1\" class=\"dataframe\">\n",
       "  <thead>\n",
       "    <tr style=\"text-align: right;\">\n",
       "      <th></th>\n",
       "      <th>tripduration</th>\n",
       "      <th>start station id</th>\n",
       "      <th>start station latitude</th>\n",
       "      <th>start station longitude</th>\n",
       "      <th>end station id</th>\n",
       "      <th>end station latitude</th>\n",
       "      <th>end station longitude</th>\n",
       "      <th>bikeid</th>\n",
       "      <th>gender</th>\n",
       "    </tr>\n",
       "  </thead>\n",
       "  <tbody>\n",
       "    <tr>\n",
       "      <th>count</th>\n",
       "      <td>5.562321e+06</td>\n",
       "      <td>5.562321e+06</td>\n",
       "      <td>5.562321e+06</td>\n",
       "      <td>5.562321e+06</td>\n",
       "      <td>5.562321e+06</td>\n",
       "      <td>5.562321e+06</td>\n",
       "      <td>5.562321e+06</td>\n",
       "      <td>5.562321e+06</td>\n",
       "      <td>5.562321e+06</td>\n",
       "    </tr>\n",
       "    <tr>\n",
       "      <th>mean</th>\n",
       "      <td>8.788093e+02</td>\n",
       "      <td>4.392877e+02</td>\n",
       "      <td>4.073437e+01</td>\n",
       "      <td>-7.399097e+01</td>\n",
       "      <td>4.396748e+02</td>\n",
       "      <td>4.073407e+01</td>\n",
       "      <td>-7.399108e+01</td>\n",
       "      <td>1.768372e+04</td>\n",
       "      <td>1.081256e+00</td>\n",
       "    </tr>\n",
       "    <tr>\n",
       "      <th>std</th>\n",
       "      <td>3.996941e+03</td>\n",
       "      <td>3.418616e+02</td>\n",
       "      <td>1.985896e-02</td>\n",
       "      <td>1.237111e-02</td>\n",
       "      <td>3.467746e+02</td>\n",
       "      <td>1.987919e-02</td>\n",
       "      <td>1.246343e-02</td>\n",
       "      <td>1.761231e+03</td>\n",
       "      <td>5.653087e-01</td>\n",
       "    </tr>\n",
       "    <tr>\n",
       "      <th>min</th>\n",
       "      <td>6.000000e+01</td>\n",
       "      <td>7.200000e+01</td>\n",
       "      <td>4.068034e+01</td>\n",
       "      <td>-7.401713e+01</td>\n",
       "      <td>7.200000e+01</td>\n",
       "      <td>4.068034e+01</td>\n",
       "      <td>-7.401713e+01</td>\n",
       "      <td>1.452900e+04</td>\n",
       "      <td>0.000000e+00</td>\n",
       "    </tr>\n",
       "    <tr>\n",
       "      <th>25%</th>\n",
       "      <td>3.980000e+02</td>\n",
       "      <td>3.040000e+02</td>\n",
       "      <td>4.072066e+01</td>\n",
       "      <td>-7.400004e+01</td>\n",
       "      <td>3.030000e+02</td>\n",
       "      <td>4.072043e+01</td>\n",
       "      <td>-7.400026e+01</td>\n",
       "      <td>1.616700e+04</td>\n",
       "      <td>1.000000e+00</td>\n",
       "    </tr>\n",
       "    <tr>\n",
       "      <th>50%</th>\n",
       "      <td>6.340000e+02</td>\n",
       "      <td>4.030000e+02</td>\n",
       "      <td>4.073625e+01</td>\n",
       "      <td>-7.399076e+01</td>\n",
       "      <td>4.020000e+02</td>\n",
       "      <td>4.073544e+01</td>\n",
       "      <td>-7.399076e+01</td>\n",
       "      <td>1.768200e+04</td>\n",
       "      <td>1.000000e+00</td>\n",
       "    </tr>\n",
       "    <tr>\n",
       "      <th>75%</th>\n",
       "      <td>1.042000e+03</td>\n",
       "      <td>4.860000e+02</td>\n",
       "      <td>4.075020e+01</td>\n",
       "      <td>-7.398195e+01</td>\n",
       "      <td>4.840000e+02</td>\n",
       "      <td>4.074972e+01</td>\n",
       "      <td>-7.398195e+01</td>\n",
       "      <td>1.917700e+04</td>\n",
       "      <td>1.000000e+00</td>\n",
       "    </tr>\n",
       "    <tr>\n",
       "      <th>max</th>\n",
       "      <td>6.250750e+06</td>\n",
       "      <td>3.002000e+03</td>\n",
       "      <td>4.077051e+01</td>\n",
       "      <td>-7.395005e+01</td>\n",
       "      <td>3.002000e+03</td>\n",
       "      <td>4.077051e+01</td>\n",
       "      <td>-7.395005e+01</td>\n",
       "      <td>2.154200e+04</td>\n",
       "      <td>2.000000e+00</td>\n",
       "    </tr>\n",
       "  </tbody>\n",
       "</table>\n",
       "</div>"
      ],
      "text/plain": [
       "       tripduration  start station id  start station latitude  \\\n",
       "count  5.562321e+06      5.562321e+06            5.562321e+06   \n",
       "mean   8.788093e+02      4.392877e+02            4.073437e+01   \n",
       "std    3.996941e+03      3.418616e+02            1.985896e-02   \n",
       "min    6.000000e+01      7.200000e+01            4.068034e+01   \n",
       "25%    3.980000e+02      3.040000e+02            4.072066e+01   \n",
       "50%    6.340000e+02      4.030000e+02            4.073625e+01   \n",
       "75%    1.042000e+03      4.860000e+02            4.075020e+01   \n",
       "max    6.250750e+06      3.002000e+03            4.077051e+01   \n",
       "\n",
       "       start station longitude  end station id  end station latitude  \\\n",
       "count             5.562321e+06    5.562321e+06          5.562321e+06   \n",
       "mean             -7.399097e+01    4.396748e+02          4.073407e+01   \n",
       "std               1.237111e-02    3.467746e+02          1.987919e-02   \n",
       "min              -7.401713e+01    7.200000e+01          4.068034e+01   \n",
       "25%              -7.400004e+01    3.030000e+02          4.072043e+01   \n",
       "50%              -7.399076e+01    4.020000e+02          4.073544e+01   \n",
       "75%              -7.398195e+01    4.840000e+02          4.074972e+01   \n",
       "max              -7.395005e+01    3.002000e+03          4.077051e+01   \n",
       "\n",
       "       end station longitude        bikeid        gender  \n",
       "count           5.562321e+06  5.562321e+06  5.562321e+06  \n",
       "mean           -7.399108e+01  1.768372e+04  1.081256e+00  \n",
       "std             1.246343e-02  1.761231e+03  5.653087e-01  \n",
       "min            -7.401713e+01  1.452900e+04  0.000000e+00  \n",
       "25%            -7.400026e+01  1.616700e+04  1.000000e+00  \n",
       "50%            -7.399076e+01  1.768200e+04  1.000000e+00  \n",
       "75%            -7.398195e+01  1.917700e+04  1.000000e+00  \n",
       "max            -7.395005e+01  2.154200e+04  2.000000e+00  "
      ]
     },
     "execution_count": 7,
     "metadata": {},
     "output_type": "execute_result"
    }
   ],
   "source": [
    "df.describe()"
   ]
  },
  {
   "cell_type": "markdown",
   "metadata": {},
   "source": [
    "## Transcription and Unification of Dataset"
   ]
  },
  {
   "cell_type": "code",
   "execution_count": 8,
   "metadata": {},
   "outputs": [
    {
     "data": {
      "text/plain": [
       "tripduration                 int64\n",
       "starttime                   object\n",
       "stoptime                    object\n",
       "start station id             int64\n",
       "start station name          object\n",
       "start station latitude     float64\n",
       "start station longitude    float64\n",
       "end station id               int64\n",
       "end station name            object\n",
       "end station latitude       float64\n",
       "end station longitude      float64\n",
       "bikeid                       int64\n",
       "usertype                    object\n",
       "birth year                  object\n",
       "gender                       int64\n",
       "dtype: object"
      ]
     },
     "execution_count": 8,
     "metadata": {},
     "output_type": "execute_result"
    }
   ],
   "source": [
    "df.dtypes"
   ]
  },
  {
   "cell_type": "markdown",
   "metadata": {},
   "source": [
    "### Birth year column"
   ]
  },
  {
   "cell_type": "code",
   "execution_count": 9,
   "metadata": {},
   "outputs": [],
   "source": [
    "birth_year = df['birth year']"
   ]
  },
  {
   "cell_type": "code",
   "execution_count": 10,
   "metadata": {},
   "outputs": [],
   "source": [
    "df['birth year'] = df['birth year'].replace(r\"\\N\", \"NaN\")"
   ]
  },
  {
   "cell_type": "code",
   "execution_count": 11,
   "metadata": {},
   "outputs": [
    {
     "data": {
      "text/plain": [
       "0          1974\n",
       "1           NaN\n",
       "2          1992\n",
       "3          1973\n",
       "4          1984\n",
       "5          1978\n",
       "6           NaN\n",
       "7          1972\n",
       "8          1949\n",
       "9          1978\n",
       "10         1987\n",
       "11         1979\n",
       "12         1968\n",
       "13         1992\n",
       "14         1977\n",
       "15         1982\n",
       "16         1968\n",
       "17         1982\n",
       "18         1976\n",
       "19          NaN\n",
       "20          NaN\n",
       "21          NaN\n",
       "22          NaN\n",
       "23         1960\n",
       "24         1992\n",
       "25          NaN\n",
       "26          NaN\n",
       "27         1979\n",
       "28         1982\n",
       "29         1988\n",
       "           ... \n",
       "5562291    1977\n",
       "5562292    1983\n",
       "5562293     NaN\n",
       "5562294    1981\n",
       "5562295    1993\n",
       "5562296    1985\n",
       "5562297    1984\n",
       "5562298    1981\n",
       "5562299    1977\n",
       "5562300    1988\n",
       "5562301    1979\n",
       "5562302    1977\n",
       "5562303     NaN\n",
       "5562304    1986\n",
       "5562305    1991\n",
       "5562306    1980\n",
       "5562307    1981\n",
       "5562308     NaN\n",
       "5562309    1991\n",
       "5562310    1978\n",
       "5562311    1982\n",
       "5562312    1987\n",
       "5562313    1961\n",
       "5562314    1990\n",
       "5562315    1986\n",
       "5562316    1990\n",
       "5562317    1994\n",
       "5562318    1966\n",
       "5562319    1970\n",
       "5562320    1984\n",
       "Name: birth year, Length: 5562321, dtype: object"
      ]
     },
     "execution_count": 11,
     "metadata": {},
     "output_type": "execute_result"
    }
   ],
   "source": [
    "df['birth year']"
   ]
  },
  {
   "cell_type": "code",
   "execution_count": 12,
   "metadata": {},
   "outputs": [],
   "source": [
    "df['birth year']= df['birth year'].replace(\"NaN\", np.nan)"
   ]
  },
  {
   "cell_type": "code",
   "execution_count": 13,
   "metadata": {},
   "outputs": [],
   "source": [
    "df['birth year'] = pd.to_numeric(df['birth year'],  errors='coerce')"
   ]
  },
  {
   "cell_type": "markdown",
   "metadata": {},
   "source": [
    "### Tripduration column"
   ]
  },
  {
   "cell_type": "code",
   "execution_count": 14,
   "metadata": {},
   "outputs": [],
   "source": [
    "df['tripduration'] = df['tripduration']/60"
   ]
  },
  {
   "cell_type": "code",
   "execution_count": 15,
   "metadata": {},
   "outputs": [
    {
     "data": {
      "text/plain": [
       "0          16.833333\n",
       "1          24.050000\n",
       "2          23.116667\n",
       "3           6.750000\n",
       "4           4.500000\n",
       "5           6.666667\n",
       "6           1.916667\n",
       "7          18.000000\n",
       "8          42.500000\n",
       "9          18.466667\n",
       "10          6.883333\n",
       "11         18.316667\n",
       "12         27.100000\n",
       "13         26.033333\n",
       "14         15.900000\n",
       "15          4.250000\n",
       "16         13.266667\n",
       "17          2.716667\n",
       "18         20.550000\n",
       "19         21.883333\n",
       "20         20.483333\n",
       "21         18.366667\n",
       "22         29.400000\n",
       "23         13.066667\n",
       "24          6.716667\n",
       "25         34.916667\n",
       "26         31.250000\n",
       "27         11.383333\n",
       "28         12.866667\n",
       "29         20.983333\n",
       "             ...    \n",
       "5562291    18.550000\n",
       "5562292     4.850000\n",
       "5562293    24.433333\n",
       "5562294    28.783333\n",
       "5562295     2.550000\n",
       "5562296     6.850000\n",
       "5562297     9.516667\n",
       "5562298     7.216667\n",
       "5562299    12.600000\n",
       "5562300     7.033333\n",
       "5562301     7.400000\n",
       "5562302    24.583333\n",
       "5562303    14.666667\n",
       "5562304     9.450000\n",
       "5562305    10.250000\n",
       "5562306    15.966667\n",
       "5562307     4.500000\n",
       "5562308    19.016667\n",
       "5562309    19.433333\n",
       "5562310     7.733333\n",
       "5562311    15.516667\n",
       "5562312    12.366667\n",
       "5562313     3.433333\n",
       "5562314    11.816667\n",
       "5562315     4.200000\n",
       "5562316     8.900000\n",
       "5562317     6.933333\n",
       "5562318     6.733333\n",
       "5562319    10.850000\n",
       "5562320     5.533333\n",
       "Name: tripduration, Length: 5562321, dtype: float64"
      ]
     },
     "execution_count": 15,
     "metadata": {},
     "output_type": "execute_result"
    }
   ],
   "source": [
    "df['tripduration']"
   ]
  },
  {
   "cell_type": "code",
   "execution_count": 16,
   "metadata": {},
   "outputs": [
    {
     "data": {
      "text/html": [
       "<div>\n",
       "<style scoped>\n",
       "    .dataframe tbody tr th:only-of-type {\n",
       "        vertical-align: middle;\n",
       "    }\n",
       "\n",
       "    .dataframe tbody tr th {\n",
       "        vertical-align: top;\n",
       "    }\n",
       "\n",
       "    .dataframe thead th {\n",
       "        text-align: right;\n",
       "    }\n",
       "</style>\n",
       "<table border=\"1\" class=\"dataframe\">\n",
       "  <thead>\n",
       "    <tr style=\"text-align: right;\">\n",
       "      <th></th>\n",
       "      <th>tripduration</th>\n",
       "      <th>starttime</th>\n",
       "      <th>stoptime</th>\n",
       "      <th>start station id</th>\n",
       "      <th>start station name</th>\n",
       "      <th>start station latitude</th>\n",
       "      <th>start station longitude</th>\n",
       "      <th>end station id</th>\n",
       "      <th>end station name</th>\n",
       "      <th>end station latitude</th>\n",
       "      <th>end station longitude</th>\n",
       "      <th>bikeid</th>\n",
       "      <th>usertype</th>\n",
       "      <th>birth year</th>\n",
       "      <th>gender</th>\n",
       "    </tr>\n",
       "  </thead>\n",
       "  <tbody>\n",
       "    <tr>\n",
       "      <th>0</th>\n",
       "      <td>16.833333</td>\n",
       "      <td>2013-09-01 00:00:02</td>\n",
       "      <td>2013-09-01 00:16:52</td>\n",
       "      <td>254</td>\n",
       "      <td>W 11 St &amp; 6 Ave</td>\n",
       "      <td>40.735324</td>\n",
       "      <td>-73.998004</td>\n",
       "      <td>147</td>\n",
       "      <td>Greenwich St &amp; Warren St</td>\n",
       "      <td>40.715422</td>\n",
       "      <td>-74.011220</td>\n",
       "      <td>15014</td>\n",
       "      <td>Subscriber</td>\n",
       "      <td>1974.0</td>\n",
       "      <td>1</td>\n",
       "    </tr>\n",
       "    <tr>\n",
       "      <th>1</th>\n",
       "      <td>24.050000</td>\n",
       "      <td>2013-09-01 00:00:09</td>\n",
       "      <td>2013-09-01 00:24:12</td>\n",
       "      <td>151</td>\n",
       "      <td>Cleveland Pl &amp; Spring St</td>\n",
       "      <td>40.721816</td>\n",
       "      <td>-73.997203</td>\n",
       "      <td>497</td>\n",
       "      <td>E 17 St &amp; Broadway</td>\n",
       "      <td>40.737050</td>\n",
       "      <td>-73.990093</td>\n",
       "      <td>19393</td>\n",
       "      <td>Customer</td>\n",
       "      <td>NaN</td>\n",
       "      <td>0</td>\n",
       "    </tr>\n",
       "    <tr>\n",
       "      <th>2</th>\n",
       "      <td>23.116667</td>\n",
       "      <td>2013-09-01 00:00:16</td>\n",
       "      <td>2013-09-01 00:23:23</td>\n",
       "      <td>352</td>\n",
       "      <td>W 56 St &amp; 6 Ave</td>\n",
       "      <td>40.763406</td>\n",
       "      <td>-73.977225</td>\n",
       "      <td>405</td>\n",
       "      <td>Washington St &amp; Gansevoort St</td>\n",
       "      <td>40.739323</td>\n",
       "      <td>-74.008119</td>\n",
       "      <td>16160</td>\n",
       "      <td>Subscriber</td>\n",
       "      <td>1992.0</td>\n",
       "      <td>1</td>\n",
       "    </tr>\n",
       "    <tr>\n",
       "      <th>3</th>\n",
       "      <td>6.750000</td>\n",
       "      <td>2013-09-01 00:00:18</td>\n",
       "      <td>2013-09-01 00:07:03</td>\n",
       "      <td>490</td>\n",
       "      <td>8 Ave &amp; W 33 St</td>\n",
       "      <td>40.751551</td>\n",
       "      <td>-73.993934</td>\n",
       "      <td>459</td>\n",
       "      <td>W 20 St &amp; 11 Ave</td>\n",
       "      <td>40.746745</td>\n",
       "      <td>-74.007756</td>\n",
       "      <td>14997</td>\n",
       "      <td>Subscriber</td>\n",
       "      <td>1973.0</td>\n",
       "      <td>1</td>\n",
       "    </tr>\n",
       "    <tr>\n",
       "      <th>4</th>\n",
       "      <td>4.500000</td>\n",
       "      <td>2013-09-01 00:00:20</td>\n",
       "      <td>2013-09-01 00:04:50</td>\n",
       "      <td>236</td>\n",
       "      <td>St Marks Pl &amp; 2 Ave</td>\n",
       "      <td>40.728419</td>\n",
       "      <td>-73.987140</td>\n",
       "      <td>393</td>\n",
       "      <td>E 5 St &amp; Avenue C</td>\n",
       "      <td>40.722992</td>\n",
       "      <td>-73.979955</td>\n",
       "      <td>19609</td>\n",
       "      <td>Subscriber</td>\n",
       "      <td>1984.0</td>\n",
       "      <td>1</td>\n",
       "    </tr>\n",
       "  </tbody>\n",
       "</table>\n",
       "</div>"
      ],
      "text/plain": [
       "   tripduration            starttime             stoptime  start station id  \\\n",
       "0     16.833333  2013-09-01 00:00:02  2013-09-01 00:16:52               254   \n",
       "1     24.050000  2013-09-01 00:00:09  2013-09-01 00:24:12               151   \n",
       "2     23.116667  2013-09-01 00:00:16  2013-09-01 00:23:23               352   \n",
       "3      6.750000  2013-09-01 00:00:18  2013-09-01 00:07:03               490   \n",
       "4      4.500000  2013-09-01 00:00:20  2013-09-01 00:04:50               236   \n",
       "\n",
       "         start station name  start station latitude  start station longitude  \\\n",
       "0           W 11 St & 6 Ave               40.735324               -73.998004   \n",
       "1  Cleveland Pl & Spring St               40.721816               -73.997203   \n",
       "2           W 56 St & 6 Ave               40.763406               -73.977225   \n",
       "3           8 Ave & W 33 St               40.751551               -73.993934   \n",
       "4       St Marks Pl & 2 Ave               40.728419               -73.987140   \n",
       "\n",
       "   end station id               end station name  end station latitude  \\\n",
       "0             147       Greenwich St & Warren St             40.715422   \n",
       "1             497             E 17 St & Broadway             40.737050   \n",
       "2             405  Washington St & Gansevoort St             40.739323   \n",
       "3             459               W 20 St & 11 Ave             40.746745   \n",
       "4             393              E 5 St & Avenue C             40.722992   \n",
       "\n",
       "   end station longitude  bikeid    usertype  birth year  gender  \n",
       "0             -74.011220   15014  Subscriber      1974.0       1  \n",
       "1             -73.990093   19393    Customer         NaN       0  \n",
       "2             -74.008119   16160  Subscriber      1992.0       1  \n",
       "3             -74.007756   14997  Subscriber      1973.0       1  \n",
       "4             -73.979955   19609  Subscriber      1984.0       1  "
      ]
     },
     "execution_count": 16,
     "metadata": {},
     "output_type": "execute_result"
    }
   ],
   "source": [
    "df.head()"
   ]
  },
  {
   "cell_type": "code",
   "execution_count": 17,
   "metadata": {},
   "outputs": [],
   "source": [
    "df['gender'] = df['gender'].astype(str)"
   ]
  },
  {
   "cell_type": "code",
   "execution_count": 18,
   "metadata": {},
   "outputs": [],
   "source": [
    "df['gender'] = df['gender'].replace([\"0\", \"1\", \"2\"], [\"Unknown\", \"Male\", \"Female\"])"
   ]
  },
  {
   "cell_type": "code",
   "execution_count": 19,
   "metadata": {},
   "outputs": [
    {
     "data": {
      "text/html": [
       "<div>\n",
       "<style scoped>\n",
       "    .dataframe tbody tr th:only-of-type {\n",
       "        vertical-align: middle;\n",
       "    }\n",
       "\n",
       "    .dataframe tbody tr th {\n",
       "        vertical-align: top;\n",
       "    }\n",
       "\n",
       "    .dataframe thead th {\n",
       "        text-align: right;\n",
       "    }\n",
       "</style>\n",
       "<table border=\"1\" class=\"dataframe\">\n",
       "  <thead>\n",
       "    <tr style=\"text-align: right;\">\n",
       "      <th></th>\n",
       "      <th>tripduration</th>\n",
       "      <th>starttime</th>\n",
       "      <th>stoptime</th>\n",
       "      <th>start station id</th>\n",
       "      <th>start station name</th>\n",
       "      <th>start station latitude</th>\n",
       "      <th>start station longitude</th>\n",
       "      <th>end station id</th>\n",
       "      <th>end station name</th>\n",
       "      <th>end station latitude</th>\n",
       "      <th>end station longitude</th>\n",
       "      <th>bikeid</th>\n",
       "      <th>usertype</th>\n",
       "      <th>birth year</th>\n",
       "      <th>gender</th>\n",
       "    </tr>\n",
       "  </thead>\n",
       "  <tbody>\n",
       "    <tr>\n",
       "      <th>0</th>\n",
       "      <td>16.833333</td>\n",
       "      <td>2013-09-01 00:00:02</td>\n",
       "      <td>2013-09-01 00:16:52</td>\n",
       "      <td>254</td>\n",
       "      <td>W 11 St &amp; 6 Ave</td>\n",
       "      <td>40.735324</td>\n",
       "      <td>-73.998004</td>\n",
       "      <td>147</td>\n",
       "      <td>Greenwich St &amp; Warren St</td>\n",
       "      <td>40.715422</td>\n",
       "      <td>-74.011220</td>\n",
       "      <td>15014</td>\n",
       "      <td>Subscriber</td>\n",
       "      <td>1974.0</td>\n",
       "      <td>Male</td>\n",
       "    </tr>\n",
       "    <tr>\n",
       "      <th>1</th>\n",
       "      <td>24.050000</td>\n",
       "      <td>2013-09-01 00:00:09</td>\n",
       "      <td>2013-09-01 00:24:12</td>\n",
       "      <td>151</td>\n",
       "      <td>Cleveland Pl &amp; Spring St</td>\n",
       "      <td>40.721816</td>\n",
       "      <td>-73.997203</td>\n",
       "      <td>497</td>\n",
       "      <td>E 17 St &amp; Broadway</td>\n",
       "      <td>40.737050</td>\n",
       "      <td>-73.990093</td>\n",
       "      <td>19393</td>\n",
       "      <td>Customer</td>\n",
       "      <td>NaN</td>\n",
       "      <td>Unknown</td>\n",
       "    </tr>\n",
       "    <tr>\n",
       "      <th>2</th>\n",
       "      <td>23.116667</td>\n",
       "      <td>2013-09-01 00:00:16</td>\n",
       "      <td>2013-09-01 00:23:23</td>\n",
       "      <td>352</td>\n",
       "      <td>W 56 St &amp; 6 Ave</td>\n",
       "      <td>40.763406</td>\n",
       "      <td>-73.977225</td>\n",
       "      <td>405</td>\n",
       "      <td>Washington St &amp; Gansevoort St</td>\n",
       "      <td>40.739323</td>\n",
       "      <td>-74.008119</td>\n",
       "      <td>16160</td>\n",
       "      <td>Subscriber</td>\n",
       "      <td>1992.0</td>\n",
       "      <td>Male</td>\n",
       "    </tr>\n",
       "    <tr>\n",
       "      <th>3</th>\n",
       "      <td>6.750000</td>\n",
       "      <td>2013-09-01 00:00:18</td>\n",
       "      <td>2013-09-01 00:07:03</td>\n",
       "      <td>490</td>\n",
       "      <td>8 Ave &amp; W 33 St</td>\n",
       "      <td>40.751551</td>\n",
       "      <td>-73.993934</td>\n",
       "      <td>459</td>\n",
       "      <td>W 20 St &amp; 11 Ave</td>\n",
       "      <td>40.746745</td>\n",
       "      <td>-74.007756</td>\n",
       "      <td>14997</td>\n",
       "      <td>Subscriber</td>\n",
       "      <td>1973.0</td>\n",
       "      <td>Male</td>\n",
       "    </tr>\n",
       "    <tr>\n",
       "      <th>4</th>\n",
       "      <td>4.500000</td>\n",
       "      <td>2013-09-01 00:00:20</td>\n",
       "      <td>2013-09-01 00:04:50</td>\n",
       "      <td>236</td>\n",
       "      <td>St Marks Pl &amp; 2 Ave</td>\n",
       "      <td>40.728419</td>\n",
       "      <td>-73.987140</td>\n",
       "      <td>393</td>\n",
       "      <td>E 5 St &amp; Avenue C</td>\n",
       "      <td>40.722992</td>\n",
       "      <td>-73.979955</td>\n",
       "      <td>19609</td>\n",
       "      <td>Subscriber</td>\n",
       "      <td>1984.0</td>\n",
       "      <td>Male</td>\n",
       "    </tr>\n",
       "  </tbody>\n",
       "</table>\n",
       "</div>"
      ],
      "text/plain": [
       "   tripduration            starttime             stoptime  start station id  \\\n",
       "0     16.833333  2013-09-01 00:00:02  2013-09-01 00:16:52               254   \n",
       "1     24.050000  2013-09-01 00:00:09  2013-09-01 00:24:12               151   \n",
       "2     23.116667  2013-09-01 00:00:16  2013-09-01 00:23:23               352   \n",
       "3      6.750000  2013-09-01 00:00:18  2013-09-01 00:07:03               490   \n",
       "4      4.500000  2013-09-01 00:00:20  2013-09-01 00:04:50               236   \n",
       "\n",
       "         start station name  start station latitude  start station longitude  \\\n",
       "0           W 11 St & 6 Ave               40.735324               -73.998004   \n",
       "1  Cleveland Pl & Spring St               40.721816               -73.997203   \n",
       "2           W 56 St & 6 Ave               40.763406               -73.977225   \n",
       "3           8 Ave & W 33 St               40.751551               -73.993934   \n",
       "4       St Marks Pl & 2 Ave               40.728419               -73.987140   \n",
       "\n",
       "   end station id               end station name  end station latitude  \\\n",
       "0             147       Greenwich St & Warren St             40.715422   \n",
       "1             497             E 17 St & Broadway             40.737050   \n",
       "2             405  Washington St & Gansevoort St             40.739323   \n",
       "3             459               W 20 St & 11 Ave             40.746745   \n",
       "4             393              E 5 St & Avenue C             40.722992   \n",
       "\n",
       "   end station longitude  bikeid    usertype  birth year   gender  \n",
       "0             -74.011220   15014  Subscriber      1974.0     Male  \n",
       "1             -73.990093   19393    Customer         NaN  Unknown  \n",
       "2             -74.008119   16160  Subscriber      1992.0     Male  \n",
       "3             -74.007756   14997  Subscriber      1973.0     Male  \n",
       "4             -73.979955   19609  Subscriber      1984.0     Male  "
      ]
     },
     "execution_count": 19,
     "metadata": {},
     "output_type": "execute_result"
    }
   ],
   "source": [
    "df.head()"
   ]
  },
  {
   "cell_type": "markdown",
   "metadata": {},
   "source": [
    "### Usertype column"
   ]
  },
  {
   "cell_type": "code",
   "execution_count": 20,
   "metadata": {},
   "outputs": [],
   "source": [
    "df['usertype'] = df['usertype'].replace([\"Subscriber\", \"Customer\"], [\"Member\", \"Non-member\"])"
   ]
  },
  {
   "cell_type": "code",
   "execution_count": 21,
   "metadata": {},
   "outputs": [
    {
     "data": {
      "text/plain": [
       "0              Member\n",
       "1          Non-member\n",
       "2              Member\n",
       "3              Member\n",
       "4              Member\n",
       "5              Member\n",
       "6          Non-member\n",
       "7              Member\n",
       "8              Member\n",
       "9              Member\n",
       "10             Member\n",
       "11             Member\n",
       "12             Member\n",
       "13             Member\n",
       "14             Member\n",
       "15             Member\n",
       "16             Member\n",
       "17             Member\n",
       "18             Member\n",
       "19         Non-member\n",
       "20         Non-member\n",
       "21         Non-member\n",
       "22         Non-member\n",
       "23             Member\n",
       "24             Member\n",
       "25         Non-member\n",
       "26         Non-member\n",
       "27             Member\n",
       "28             Member\n",
       "29             Member\n",
       "              ...    \n",
       "5562291        Member\n",
       "5562292        Member\n",
       "5562293    Non-member\n",
       "5562294        Member\n",
       "5562295        Member\n",
       "5562296        Member\n",
       "5562297        Member\n",
       "5562298        Member\n",
       "5562299        Member\n",
       "5562300        Member\n",
       "5562301        Member\n",
       "5562302        Member\n",
       "5562303    Non-member\n",
       "5562304        Member\n",
       "5562305        Member\n",
       "5562306        Member\n",
       "5562307        Member\n",
       "5562308    Non-member\n",
       "5562309        Member\n",
       "5562310        Member\n",
       "5562311        Member\n",
       "5562312        Member\n",
       "5562313        Member\n",
       "5562314        Member\n",
       "5562315        Member\n",
       "5562316        Member\n",
       "5562317        Member\n",
       "5562318        Member\n",
       "5562319        Member\n",
       "5562320        Member\n",
       "Name: usertype, Length: 5562321, dtype: object"
      ]
     },
     "execution_count": 21,
     "metadata": {},
     "output_type": "execute_result"
    }
   ],
   "source": [
    "df['usertype']"
   ]
  },
  {
   "cell_type": "code",
   "execution_count": 22,
   "metadata": {},
   "outputs": [
    {
     "data": {
      "text/html": [
       "<div>\n",
       "<style scoped>\n",
       "    .dataframe tbody tr th:only-of-type {\n",
       "        vertical-align: middle;\n",
       "    }\n",
       "\n",
       "    .dataframe tbody tr th {\n",
       "        vertical-align: top;\n",
       "    }\n",
       "\n",
       "    .dataframe thead th {\n",
       "        text-align: right;\n",
       "    }\n",
       "</style>\n",
       "<table border=\"1\" class=\"dataframe\">\n",
       "  <thead>\n",
       "    <tr style=\"text-align: right;\">\n",
       "      <th></th>\n",
       "      <th>duration</th>\n",
       "      <th>start_time</th>\n",
       "      <th>end_time</th>\n",
       "      <th>start_station_id</th>\n",
       "      <th>start_station</th>\n",
       "      <th>start_lat</th>\n",
       "      <th>start_lng</th>\n",
       "      <th>end_station_id</th>\n",
       "      <th>end_station</th>\n",
       "      <th>end_lat</th>\n",
       "      <th>end_lng</th>\n",
       "      <th>bikeid</th>\n",
       "      <th>user_type</th>\n",
       "      <th>birth_year</th>\n",
       "      <th>gender</th>\n",
       "    </tr>\n",
       "  </thead>\n",
       "  <tbody>\n",
       "    <tr>\n",
       "      <th>0</th>\n",
       "      <td>16.833333</td>\n",
       "      <td>2013-09-01 00:00:02</td>\n",
       "      <td>2013-09-01 00:16:52</td>\n",
       "      <td>254</td>\n",
       "      <td>W 11 St &amp; 6 Ave</td>\n",
       "      <td>40.735324</td>\n",
       "      <td>-73.998004</td>\n",
       "      <td>147</td>\n",
       "      <td>Greenwich St &amp; Warren St</td>\n",
       "      <td>40.715422</td>\n",
       "      <td>-74.011220</td>\n",
       "      <td>15014</td>\n",
       "      <td>Member</td>\n",
       "      <td>1974.0</td>\n",
       "      <td>Male</td>\n",
       "    </tr>\n",
       "    <tr>\n",
       "      <th>1</th>\n",
       "      <td>24.050000</td>\n",
       "      <td>2013-09-01 00:00:09</td>\n",
       "      <td>2013-09-01 00:24:12</td>\n",
       "      <td>151</td>\n",
       "      <td>Cleveland Pl &amp; Spring St</td>\n",
       "      <td>40.721816</td>\n",
       "      <td>-73.997203</td>\n",
       "      <td>497</td>\n",
       "      <td>E 17 St &amp; Broadway</td>\n",
       "      <td>40.737050</td>\n",
       "      <td>-73.990093</td>\n",
       "      <td>19393</td>\n",
       "      <td>Non-member</td>\n",
       "      <td>NaN</td>\n",
       "      <td>Unknown</td>\n",
       "    </tr>\n",
       "    <tr>\n",
       "      <th>2</th>\n",
       "      <td>23.116667</td>\n",
       "      <td>2013-09-01 00:00:16</td>\n",
       "      <td>2013-09-01 00:23:23</td>\n",
       "      <td>352</td>\n",
       "      <td>W 56 St &amp; 6 Ave</td>\n",
       "      <td>40.763406</td>\n",
       "      <td>-73.977225</td>\n",
       "      <td>405</td>\n",
       "      <td>Washington St &amp; Gansevoort St</td>\n",
       "      <td>40.739323</td>\n",
       "      <td>-74.008119</td>\n",
       "      <td>16160</td>\n",
       "      <td>Member</td>\n",
       "      <td>1992.0</td>\n",
       "      <td>Male</td>\n",
       "    </tr>\n",
       "    <tr>\n",
       "      <th>3</th>\n",
       "      <td>6.750000</td>\n",
       "      <td>2013-09-01 00:00:18</td>\n",
       "      <td>2013-09-01 00:07:03</td>\n",
       "      <td>490</td>\n",
       "      <td>8 Ave &amp; W 33 St</td>\n",
       "      <td>40.751551</td>\n",
       "      <td>-73.993934</td>\n",
       "      <td>459</td>\n",
       "      <td>W 20 St &amp; 11 Ave</td>\n",
       "      <td>40.746745</td>\n",
       "      <td>-74.007756</td>\n",
       "      <td>14997</td>\n",
       "      <td>Member</td>\n",
       "      <td>1973.0</td>\n",
       "      <td>Male</td>\n",
       "    </tr>\n",
       "    <tr>\n",
       "      <th>4</th>\n",
       "      <td>4.500000</td>\n",
       "      <td>2013-09-01 00:00:20</td>\n",
       "      <td>2013-09-01 00:04:50</td>\n",
       "      <td>236</td>\n",
       "      <td>St Marks Pl &amp; 2 Ave</td>\n",
       "      <td>40.728419</td>\n",
       "      <td>-73.987140</td>\n",
       "      <td>393</td>\n",
       "      <td>E 5 St &amp; Avenue C</td>\n",
       "      <td>40.722992</td>\n",
       "      <td>-73.979955</td>\n",
       "      <td>19609</td>\n",
       "      <td>Member</td>\n",
       "      <td>1984.0</td>\n",
       "      <td>Male</td>\n",
       "    </tr>\n",
       "  </tbody>\n",
       "</table>\n",
       "</div>"
      ],
      "text/plain": [
       "    duration           start_time             end_time  start_station_id  \\\n",
       "0  16.833333  2013-09-01 00:00:02  2013-09-01 00:16:52               254   \n",
       "1  24.050000  2013-09-01 00:00:09  2013-09-01 00:24:12               151   \n",
       "2  23.116667  2013-09-01 00:00:16  2013-09-01 00:23:23               352   \n",
       "3   6.750000  2013-09-01 00:00:18  2013-09-01 00:07:03               490   \n",
       "4   4.500000  2013-09-01 00:00:20  2013-09-01 00:04:50               236   \n",
       "\n",
       "              start_station  start_lat  start_lng  end_station_id  \\\n",
       "0           W 11 St & 6 Ave  40.735324 -73.998004             147   \n",
       "1  Cleveland Pl & Spring St  40.721816 -73.997203             497   \n",
       "2           W 56 St & 6 Ave  40.763406 -73.977225             405   \n",
       "3           8 Ave & W 33 St  40.751551 -73.993934             459   \n",
       "4       St Marks Pl & 2 Ave  40.728419 -73.987140             393   \n",
       "\n",
       "                     end_station    end_lat    end_lng  bikeid   user_type  \\\n",
       "0       Greenwich St & Warren St  40.715422 -74.011220   15014      Member   \n",
       "1             E 17 St & Broadway  40.737050 -73.990093   19393  Non-member   \n",
       "2  Washington St & Gansevoort St  40.739323 -74.008119   16160      Member   \n",
       "3               W 20 St & 11 Ave  40.746745 -74.007756   14997      Member   \n",
       "4              E 5 St & Avenue C  40.722992 -73.979955   19609      Member   \n",
       "\n",
       "   birth_year   gender  \n",
       "0      1974.0     Male  \n",
       "1         NaN  Unknown  \n",
       "2      1992.0     Male  \n",
       "3      1973.0     Male  \n",
       "4      1984.0     Male  "
      ]
     },
     "execution_count": 22,
     "metadata": {},
     "output_type": "execute_result"
    }
   ],
   "source": [
    "column_rename = {'tripduration': 'duration', 'starttime': 'start_time', 'stoptime': 'end_time', 'start station id': 'start_station_id', 'start station name': 'start_station', 'start station latitude': 'start_lat', 'start station longitude': 'start_lng', 'end station longitude': 'end_lng', 'end station latitude': 'end_lat', 'end station id': 'end_station_id', 'end station name': 'end_station', 'birth year': 'birth_year', 'usertype': 'user_type'}\n",
    "df_renamed = df.rename(columns = column_rename)\n",
    "df_renamed.head()"
   ]
  },
  {
   "cell_type": "code",
   "execution_count": 23,
   "metadata": {},
   "outputs": [
    {
     "data": {
      "text/html": [
       "<div>\n",
       "<style scoped>\n",
       "    .dataframe tbody tr th:only-of-type {\n",
       "        vertical-align: middle;\n",
       "    }\n",
       "\n",
       "    .dataframe tbody tr th {\n",
       "        vertical-align: top;\n",
       "    }\n",
       "\n",
       "    .dataframe thead th {\n",
       "        text-align: right;\n",
       "    }\n",
       "</style>\n",
       "<table border=\"1\" class=\"dataframe\">\n",
       "  <thead>\n",
       "    <tr style=\"text-align: right;\">\n",
       "      <th></th>\n",
       "      <th>duration</th>\n",
       "      <th>start_time</th>\n",
       "      <th>end_time</th>\n",
       "      <th>start_station</th>\n",
       "      <th>end_station</th>\n",
       "      <th>start_lng</th>\n",
       "      <th>end_lng</th>\n",
       "      <th>start_lat</th>\n",
       "      <th>end_lat</th>\n",
       "      <th>user_type</th>\n",
       "      <th>birth_year</th>\n",
       "      <th>gender</th>\n",
       "    </tr>\n",
       "  </thead>\n",
       "  <tbody>\n",
       "    <tr>\n",
       "      <th>0</th>\n",
       "      <td>16.833333</td>\n",
       "      <td>2013-09-01 00:00:02</td>\n",
       "      <td>2013-09-01 00:16:52</td>\n",
       "      <td>W 11 St &amp; 6 Ave</td>\n",
       "      <td>Greenwich St &amp; Warren St</td>\n",
       "      <td>-73.998004</td>\n",
       "      <td>-74.011220</td>\n",
       "      <td>40.735324</td>\n",
       "      <td>40.715422</td>\n",
       "      <td>Member</td>\n",
       "      <td>1974.0</td>\n",
       "      <td>Male</td>\n",
       "    </tr>\n",
       "    <tr>\n",
       "      <th>1</th>\n",
       "      <td>24.050000</td>\n",
       "      <td>2013-09-01 00:00:09</td>\n",
       "      <td>2013-09-01 00:24:12</td>\n",
       "      <td>Cleveland Pl &amp; Spring St</td>\n",
       "      <td>E 17 St &amp; Broadway</td>\n",
       "      <td>-73.997203</td>\n",
       "      <td>-73.990093</td>\n",
       "      <td>40.721816</td>\n",
       "      <td>40.737050</td>\n",
       "      <td>Non-member</td>\n",
       "      <td>NaN</td>\n",
       "      <td>Unknown</td>\n",
       "    </tr>\n",
       "    <tr>\n",
       "      <th>2</th>\n",
       "      <td>23.116667</td>\n",
       "      <td>2013-09-01 00:00:16</td>\n",
       "      <td>2013-09-01 00:23:23</td>\n",
       "      <td>W 56 St &amp; 6 Ave</td>\n",
       "      <td>Washington St &amp; Gansevoort St</td>\n",
       "      <td>-73.977225</td>\n",
       "      <td>-74.008119</td>\n",
       "      <td>40.763406</td>\n",
       "      <td>40.739323</td>\n",
       "      <td>Member</td>\n",
       "      <td>1992.0</td>\n",
       "      <td>Male</td>\n",
       "    </tr>\n",
       "    <tr>\n",
       "      <th>3</th>\n",
       "      <td>6.750000</td>\n",
       "      <td>2013-09-01 00:00:18</td>\n",
       "      <td>2013-09-01 00:07:03</td>\n",
       "      <td>8 Ave &amp; W 33 St</td>\n",
       "      <td>W 20 St &amp; 11 Ave</td>\n",
       "      <td>-73.993934</td>\n",
       "      <td>-74.007756</td>\n",
       "      <td>40.751551</td>\n",
       "      <td>40.746745</td>\n",
       "      <td>Member</td>\n",
       "      <td>1973.0</td>\n",
       "      <td>Male</td>\n",
       "    </tr>\n",
       "    <tr>\n",
       "      <th>4</th>\n",
       "      <td>4.500000</td>\n",
       "      <td>2013-09-01 00:00:20</td>\n",
       "      <td>2013-09-01 00:04:50</td>\n",
       "      <td>St Marks Pl &amp; 2 Ave</td>\n",
       "      <td>E 5 St &amp; Avenue C</td>\n",
       "      <td>-73.987140</td>\n",
       "      <td>-73.979955</td>\n",
       "      <td>40.728419</td>\n",
       "      <td>40.722992</td>\n",
       "      <td>Member</td>\n",
       "      <td>1984.0</td>\n",
       "      <td>Male</td>\n",
       "    </tr>\n",
       "  </tbody>\n",
       "</table>\n",
       "</div>"
      ],
      "text/plain": [
       "    duration           start_time             end_time  \\\n",
       "0  16.833333  2013-09-01 00:00:02  2013-09-01 00:16:52   \n",
       "1  24.050000  2013-09-01 00:00:09  2013-09-01 00:24:12   \n",
       "2  23.116667  2013-09-01 00:00:16  2013-09-01 00:23:23   \n",
       "3   6.750000  2013-09-01 00:00:18  2013-09-01 00:07:03   \n",
       "4   4.500000  2013-09-01 00:00:20  2013-09-01 00:04:50   \n",
       "\n",
       "              start_station                    end_station  start_lng  \\\n",
       "0           W 11 St & 6 Ave       Greenwich St & Warren St -73.998004   \n",
       "1  Cleveland Pl & Spring St             E 17 St & Broadway -73.997203   \n",
       "2           W 56 St & 6 Ave  Washington St & Gansevoort St -73.977225   \n",
       "3           8 Ave & W 33 St               W 20 St & 11 Ave -73.993934   \n",
       "4       St Marks Pl & 2 Ave              E 5 St & Avenue C -73.987140   \n",
       "\n",
       "     end_lng  start_lat    end_lat   user_type  birth_year   gender  \n",
       "0 -74.011220  40.735324  40.715422      Member      1974.0     Male  \n",
       "1 -73.990093  40.721816  40.737050  Non-member         NaN  Unknown  \n",
       "2 -74.008119  40.763406  40.739323      Member      1992.0     Male  \n",
       "3 -74.007756  40.751551  40.746745      Member      1973.0     Male  \n",
       "4 -73.979955  40.728419  40.722992      Member      1984.0     Male  "
      ]
     },
     "execution_count": 23,
     "metadata": {},
     "output_type": "execute_result"
    }
   ],
   "source": [
    "df_renamed = df_renamed[['duration','start_time','end_time', 'start_station', 'end_station', 'start_lng', 'end_lng', 'start_lat', 'end_lat', 'user_type', 'birth_year', 'gender']]\n",
    "df_renamed.head()"
   ]
  },
  {
   "cell_type": "markdown",
   "metadata": {},
   "source": [
    "## 10 most popular station"
   ]
  },
  {
   "cell_type": "code",
   "execution_count": 24,
   "metadata": {},
   "outputs": [
    {
     "data": {
      "text/plain": [
       "Pershing Square N                56693\n",
       "E 17 St & Broadway               55007\n",
       "8 Ave & W 31 St                  53871\n",
       "Lafayette St & E 8 St            52832\n",
       "W 20 St & 11 Ave                 47425\n",
       "Broadway & E 14 St               46200\n",
       "W 21 St & 6 Ave                  43849\n",
       "West St & Chambers St            43106\n",
       "8 Ave & W 33 St                  41514\n",
       "W 41 St & 8 Ave                  40949\n",
       "Cleveland Pl & Spring St         40311\n",
       "University Pl & E 14 St          40299\n",
       "Broadway & E 22 St               39263\n",
       "Broadway & W 24 St               38652\n",
       "Broadway & W 60 St               36889\n",
       "E 43 St & Vanderbilt Ave         36299\n",
       "Greenwich Ave & 8 Ave            35959\n",
       "Carmine St & 6 Ave               33803\n",
       "W 4 St & 7 Ave S                 33410\n",
       "Vesey Pl & River Terrace         33022\n",
       "2 Ave & E 31 St                  32776\n",
       "W 18 St & 6 Ave                  32709\n",
       "Christopher St & Greenwich St    32169\n",
       "Pershing Square S                31985\n",
       "E 39 St & 2 Ave                  31823\n",
       "MacDougal St & Prince St         31618\n",
       "W 22 St & 10 Ave                 31526\n",
       "Broadway & W 58 St               31446\n",
       "W 17 St & 8 Ave                  31377\n",
       "W 33 St & 7 Ave                  31212\n",
       "                                 ...  \n",
       "Carlton Ave & Park Ave            3747\n",
       "Emerson Pl & Myrtle Ave           3678\n",
       "Lafayette Ave & St James Pl       3671\n",
       "Kent Ave & S 11 St                3605\n",
       "Willoughby Ave & Walworth St      3482\n",
       "S Portland Ave & Hanson Pl        3352\n",
       "Lexington Ave & Classon Ave       3243\n",
       "Washington Ave & Greene Ave       3174\n",
       "Avenue D & E 12 St                3109\n",
       "Concord St & Bridge St            2999\n",
       "Macon St & Nostrand Ave           2997\n",
       "Fulton St & Clermont Ave          2830\n",
       "Monroe St & Bedford Ave           2698\n",
       "3 Ave & Schermerhorn St           2694\n",
       "Clinton Ave & Flushing Ave        2631\n",
       "Nassau St & Navy St               2602\n",
       "Sands St & Gold St                2589\n",
       "Clermont Ave & Park Ave           2587\n",
       "Gallatin Pl & Livingston St       2569\n",
       "DeKalb Ave & Skillman St          2482\n",
       "Hancock St & Bedford Ave          2270\n",
       "Myrtle Ave & St Edwards St        2246\n",
       "Monroe St & Classon Ave           1905\n",
       "Bedford Ave & S 9th St            1835\n",
       "Franklin Ave & Myrtle Ave         1632\n",
       "Hanover Pl & Livingston St        1525\n",
       "Park Ave & St Edwards St          1265\n",
       "7 Ave & Farragut St               1147\n",
       "Cadman Plaza E & Red Cross Pl      840\n",
       "Railroad Ave & Kay Ave             562\n",
       "Name: start_station, Length: 330, dtype: int64"
      ]
     },
     "execution_count": 24,
     "metadata": {},
     "output_type": "execute_result"
    }
   ],
   "source": [
    "start_station = df_renamed['start_station']\n",
    "start_station.value_counts()"
   ]
  },
  {
   "cell_type": "code",
   "execution_count": 25,
   "metadata": {},
   "outputs": [
    {
     "data": {
      "text/plain": [
       "Pershing Square N        56693\n",
       "E 17 St & Broadway       55007\n",
       "8 Ave & W 31 St          53871\n",
       "Lafayette St & E 8 St    52832\n",
       "W 20 St & 11 Ave         47425\n",
       "Broadway & E 14 St       46200\n",
       "W 21 St & 6 Ave          43849\n",
       "West St & Chambers St    43106\n",
       "8 Ave & W 33 St          41514\n",
       "W 41 St & 8 Ave          40949\n",
       "Name: start_station, dtype: int64"
      ]
     },
     "execution_count": 25,
     "metadata": {},
     "output_type": "execute_result"
    }
   ],
   "source": [
    "start_station.value_counts().head(10)"
   ]
  },
  {
   "cell_type": "code",
   "execution_count": 26,
   "metadata": {},
   "outputs": [
    {
     "data": {
      "text/plain": [
       "E 17 St & Broadway          59446\n",
       "8 Ave & W 31 St             52486\n",
       "Lafayette St & E 8 St       51988\n",
       "W 20 St & 11 Ave            47860\n",
       "Broadway & E 14 St          45464\n",
       "Pershing Square N           45422\n",
       "West St & Chambers St       44588\n",
       "W 21 St & 6 Ave             43534\n",
       "University Pl & E 14 St     40850\n",
       "Cleveland Pl & Spring St    40539\n",
       "Name: end_station, dtype: int64"
      ]
     },
     "execution_count": 26,
     "metadata": {},
     "output_type": "execute_result"
    }
   ],
   "source": [
    "end_station = df_renamed['end_station']\n",
    "end_station.value_counts().head(10)"
   ]
  },
  {
   "cell_type": "markdown",
   "metadata": {},
   "source": [
    "## Distribution of trip duration"
   ]
  },
  {
   "cell_type": "code",
   "execution_count": 27,
   "metadata": {},
   "outputs": [],
   "source": [
    "duration = df_renamed['duration']"
   ]
  },
  {
   "cell_type": "code",
   "execution_count": 28,
   "metadata": {},
   "outputs": [
    {
     "data": {
      "text/plain": [
       "count    5.562321e+06\n",
       "mean     1.464682e+01\n",
       "std      6.661568e+01\n",
       "min      1.000000e+00\n",
       "25%      6.633333e+00\n",
       "50%      1.056667e+01\n",
       "75%      1.736667e+01\n",
       "max      1.041792e+05\n",
       "Name: duration, dtype: float64"
      ]
     },
     "execution_count": 28,
     "metadata": {},
     "output_type": "execute_result"
    }
   ],
   "source": [
    "duration.describe()"
   ]
  },
  {
   "cell_type": "code",
   "execution_count": 29,
   "metadata": {},
   "outputs": [
    {
     "data": {
      "text/plain": [
       "False"
      ]
     },
     "execution_count": 29,
     "metadata": {},
     "output_type": "execute_result"
    }
   ],
   "source": [
    "duration.hasnans"
   ]
  },
  {
   "cell_type": "code",
   "execution_count": 30,
   "metadata": {},
   "outputs": [],
   "source": [
    "duration_by_gender = df_renamed.groupby('gender')['duration'].sum()"
   ]
  },
  {
   "cell_type": "code",
   "execution_count": 31,
   "metadata": {},
   "outputs": [
    {
     "data": {
      "text/plain": [
       "gender\n",
       "Female     1.687917e+07\n",
       "Male       4.707362e+07\n",
       "Unknown    1.751752e+07\n",
       "Name: duration, dtype: float64"
      ]
     },
     "execution_count": 31,
     "metadata": {},
     "output_type": "execute_result"
    }
   ],
   "source": [
    "duration_by_gender"
   ]
  },
  {
   "cell_type": "code",
   "execution_count": 32,
   "metadata": {},
   "outputs": [],
   "source": [
    "#duration_by_gender_plot = sns.barplot(x = 'gender', y = 'tripduration', data = df)"
   ]
  },
  {
   "cell_type": "markdown",
   "metadata": {},
   "source": [
    "### Gender and gender by usertype distribution"
   ]
  },
  {
   "cell_type": "code",
   "execution_count": 33,
   "metadata": {},
   "outputs": [],
   "source": [
    "gender = df_renamed['gender']"
   ]
  },
  {
   "cell_type": "code",
   "execution_count": 34,
   "metadata": {},
   "outputs": [
    {
     "data": {
      "text/plain": [
       "Male       3748023\n",
       "Female     1133135\n",
       "Unknown     681163\n",
       "Name: gender, dtype: int64"
      ]
     },
     "execution_count": 34,
     "metadata": {},
     "output_type": "execute_result"
    }
   ],
   "source": [
    "gender.value_counts()"
   ]
  },
  {
   "cell_type": "code",
   "execution_count": 35,
   "metadata": {},
   "outputs": [
    {
     "data": {
      "image/png": "[encoded data removed]",
      "text/plain": [
       "<matplotlib.figure.Figure at 0x119a62a20>"
      ]
     },
     "metadata": {},
     "output_type": "display_data"
    }
   ],
   "source": [
    "gender_plot = sns.countplot(x = 'gender', data = df_renamed)"
   ]
  },
  {
   "cell_type": "code",
   "execution_count": 36,
   "metadata": {},
   "outputs": [
    {
     "data": {
      "image/png": "[encoded data removed]",
      "text/plain": [
       "<matplotlib.figure.Figure at 0x119a629e8>"
      ]
     },
     "metadata": {},
     "output_type": "display_data"
    }
   ],
   "source": [
    "gender_by_usertype = sns.countplot(x = 'user_type', hue = 'gender', data = df_renamed)"
   ]
  },
  {
   "cell_type": "markdown",
   "metadata": {},
   "source": [
    "Throughout the bar plot, we can easily observe that the number of the make bikeshare is higher third times as that of the female bikeshare. Moreover, all female and male are subscriber (annual member) and all unknown people are customer (24-hour pass or 3-day pass user - non-member)."
   ]
  },
  {
   "cell_type": "markdown",
   "metadata": {},
   "source": [
    "## Map of start station and end station"
   ]
  },
  {
   "cell_type": "code",
   "execution_count": 37,
   "metadata": {},
   "outputs": [
    {
     "data": {
      "text/plain": [
       "array(['W 11 St & 6 Ave', 'Cleveland Pl & Spring St', 'W 56 St & 6 Ave',\n",
       "       ..., 'E 53 St & Madison Ave', '6 Ave & Canal St',\n",
       "       'Lafayette St & Jersey St'], dtype=object)"
      ]
     },
     "execution_count": 37,
     "metadata": {},
     "output_type": "execute_result"
    }
   ],
   "source": [
    "start_station_name = df_renamed['start_station'].values\n",
    "start_station_name"
   ]
  },
  {
   "cell_type": "code",
   "execution_count": 38,
   "metadata": {},
   "outputs": [
    {
     "data": {
      "text/html": [
       "<div style=\"width:100%;\"><div style=\"position:relative;width:100%;height:0;padding-bottom:60%;\"><iframe src=\"data:text/html;charset=utf-8;base64,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\" style=\"position:absolute;width:100%;height:100%;left:0;top:0;border:none !important;\" allowfullscreen webkitallowfullscreen mozallowfullscreen></iframe></div></div>"
      ],
      "text/plain": [
       "<folium.folium.Map at 0x119f27898>"
      ]
     },
     "execution_count": 38,
     "metadata": {},
     "output_type": "execute_result"
    }
   ],
   "source": [
    "stop_map = folium.Map(location = [40.735324, -73.998004], zoom_start = 11)\n",
    "stop_map"
   ]
  },
  {
   "cell_type": "code",
   "execution_count": 39,
   "metadata": {},
   "outputs": [],
   "source": [
    "# for index, row in df_renamed.iterrows():\n",
    "#     folium.CircleMarker([row['start_lat'], row['start_lng']], radius = 15, popup = row['start_station'], fill_color = \"#3db7e4\").add_to(stop_map)"
   ]
  },
  {
   "cell_type": "code",
   "execution_count": 40,
   "metadata": {},
   "outputs": [],
   "source": [
    "start_location = df_renamed[['start_lat', 'start_lng']].as_matrix()\n"
   ]
  },
  {
   "cell_type": "code",
   "execution_count": null,
   "metadata": {},
   "outputs": [],
   "source": [
    "stop_map.add_child(plugins.HeatMap(start_location, radius=15))"
   ]
  },
  {
   "cell_type": "code",
   "execution_count": null,
   "metadata": {},
   "outputs": [],
   "source": [
    "stop_map"
   ]
  },
  {
   "cell_type": "code",
   "execution_count": null,
   "metadata": {},
   "outputs": [],
   "source": []
  }
 ],
 "metadata": {
  "kernelspec": {
   "display_name": "Python 3",
   "language": "python",
   "name": "python3"
  },
  "language_info": {
   "codemirror_mode": {
    "name": "ipython",
    "version": 3
   },
   "file_extension": ".py",
   "mimetype": "text/x-python",
   "name": "python",
   "nbconvert_exporter": "python",
   "pygments_lexer": "ipython3",
   "version": "3.6.4"
  }
 },
 "nbformat": 4,
 "nbformat_minor": 2
}
