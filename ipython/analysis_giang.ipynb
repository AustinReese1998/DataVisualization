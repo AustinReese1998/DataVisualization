{
 "cells": [
  {
   "cell_type": "code",
   "execution_count": 4,
   "metadata": {},
   "outputs": [],
   "source": [
    "import pandas as pd\n",
    "import numpy as np"
   ]
  },
  {
   "cell_type": "code",
   "execution_count": 14,
   "metadata": {},
   "outputs": [],
   "source": [
    "import seaborn as sns\n",
    "import folium\n",
    "from folium import plugins\n",
    "import matplotlib\n",
    "from matplotlib import pyplot as plt\n",
    "from folium.plugins import HeatMap\n",
    "from folium.plugins import MarkerCluster"
   ]
  },
  {
   "cell_type": "code",
   "execution_count": 15,
   "metadata": {},
   "outputs": [
    {
     "data": {
      "text/html": [
       "<div>\n",
       "<style scoped>\n",
       "    .dataframe tbody tr th:only-of-type {\n",
       "        vertical-align: middle;\n",
       "    }\n",
       "\n",
       "    .dataframe tbody tr th {\n",
       "        vertical-align: top;\n",
       "    }\n",
       "\n",
       "    .dataframe thead th {\n",
       "        text-align: right;\n",
       "    }\n",
       "</style>\n",
       "<table border=\"1\" class=\"dataframe\">\n",
       "  <thead>\n",
       "    <tr style=\"text-align: right;\">\n",
       "      <th></th>\n",
       "      <th>Unnamed: 0</th>\n",
       "      <th>duration</th>\n",
       "      <th>start_time</th>\n",
       "      <th>end_time</th>\n",
       "      <th>start_station</th>\n",
       "      <th>end_station</th>\n",
       "      <th>start_lng</th>\n",
       "      <th>end_lng</th>\n",
       "      <th>start_lat</th>\n",
       "      <th>end_lat</th>\n",
       "      <th>user_type</th>\n",
       "      <th>birth_year</th>\n",
       "      <th>gender</th>\n",
       "    </tr>\n",
       "  </thead>\n",
       "  <tbody>\n",
       "    <tr>\n",
       "      <th>0</th>\n",
       "      <td>0</td>\n",
       "      <td>16.833333</td>\n",
       "      <td>2013-09-01 00:00:02</td>\n",
       "      <td>2013-09-01 00:16:52</td>\n",
       "      <td>W 11 St &amp; 6 Ave</td>\n",
       "      <td>Greenwich St &amp; Warren St</td>\n",
       "      <td>-73.998004</td>\n",
       "      <td>-74.011220</td>\n",
       "      <td>40.735324</td>\n",
       "      <td>40.715422</td>\n",
       "      <td>Member</td>\n",
       "      <td>1974.0</td>\n",
       "      <td>Male</td>\n",
       "    </tr>\n",
       "    <tr>\n",
       "      <th>1</th>\n",
       "      <td>1</td>\n",
       "      <td>24.050000</td>\n",
       "      <td>2013-09-01 00:00:09</td>\n",
       "      <td>2013-09-01 00:24:12</td>\n",
       "      <td>Cleveland Pl &amp; Spring St</td>\n",
       "      <td>E 17 St &amp; Broadway</td>\n",
       "      <td>-73.997203</td>\n",
       "      <td>-73.990093</td>\n",
       "      <td>40.721816</td>\n",
       "      <td>40.737050</td>\n",
       "      <td>Non-member</td>\n",
       "      <td>NaN</td>\n",
       "      <td>Unknown</td>\n",
       "    </tr>\n",
       "    <tr>\n",
       "      <th>2</th>\n",
       "      <td>2</td>\n",
       "      <td>23.116667</td>\n",
       "      <td>2013-09-01 00:00:16</td>\n",
       "      <td>2013-09-01 00:23:23</td>\n",
       "      <td>W 56 St &amp; 6 Ave</td>\n",
       "      <td>Washington St &amp; Gansevoort St</td>\n",
       "      <td>-73.977225</td>\n",
       "      <td>-74.008119</td>\n",
       "      <td>40.763406</td>\n",
       "      <td>40.739323</td>\n",
       "      <td>Member</td>\n",
       "      <td>1992.0</td>\n",
       "      <td>Male</td>\n",
       "    </tr>\n",
       "    <tr>\n",
       "      <th>3</th>\n",
       "      <td>3</td>\n",
       "      <td>6.750000</td>\n",
       "      <td>2013-09-01 00:00:18</td>\n",
       "      <td>2013-09-01 00:07:03</td>\n",
       "      <td>8 Ave &amp; W 33 St</td>\n",
       "      <td>W 20 St &amp; 11 Ave</td>\n",
       "      <td>-73.993934</td>\n",
       "      <td>-74.007756</td>\n",
       "      <td>40.751551</td>\n",
       "      <td>40.746745</td>\n",
       "      <td>Member</td>\n",
       "      <td>1973.0</td>\n",
       "      <td>Male</td>\n",
       "    </tr>\n",
       "    <tr>\n",
       "      <th>4</th>\n",
       "      <td>4</td>\n",
       "      <td>4.500000</td>\n",
       "      <td>2013-09-01 00:00:20</td>\n",
       "      <td>2013-09-01 00:04:50</td>\n",
       "      <td>St Marks Pl &amp; 2 Ave</td>\n",
       "      <td>E 5 St &amp; Avenue C</td>\n",
       "      <td>-73.987140</td>\n",
       "      <td>-73.979955</td>\n",
       "      <td>40.728419</td>\n",
       "      <td>40.722992</td>\n",
       "      <td>Member</td>\n",
       "      <td>1984.0</td>\n",
       "      <td>Male</td>\n",
       "    </tr>\n",
       "  </tbody>\n",
       "</table>\n",
       "</div>"
      ],
      "text/plain": [
       "   Unnamed: 0   duration           start_time             end_time  \\\n",
       "0           0  16.833333  2013-09-01 00:00:02  2013-09-01 00:16:52   \n",
       "1           1  24.050000  2013-09-01 00:00:09  2013-09-01 00:24:12   \n",
       "2           2  23.116667  2013-09-01 00:00:16  2013-09-01 00:23:23   \n",
       "3           3   6.750000  2013-09-01 00:00:18  2013-09-01 00:07:03   \n",
       "4           4   4.500000  2013-09-01 00:00:20  2013-09-01 00:04:50   \n",
       "\n",
       "              start_station                    end_station  start_lng  \\\n",
       "0           W 11 St & 6 Ave       Greenwich St & Warren St -73.998004   \n",
       "1  Cleveland Pl & Spring St             E 17 St & Broadway -73.997203   \n",
       "2           W 56 St & 6 Ave  Washington St & Gansevoort St -73.977225   \n",
       "3           8 Ave & W 33 St               W 20 St & 11 Ave -73.993934   \n",
       "4       St Marks Pl & 2 Ave              E 5 St & Avenue C -73.987140   \n",
       "\n",
       "     end_lng  start_lat    end_lat   user_type  birth_year   gender  \n",
       "0 -74.011220  40.735324  40.715422      Member      1974.0     Male  \n",
       "1 -73.990093  40.721816  40.737050  Non-member         NaN  Unknown  \n",
       "2 -74.008119  40.763406  40.739323      Member      1992.0     Male  \n",
       "3 -74.007756  40.751551  40.746745      Member      1973.0     Male  \n",
       "4 -73.979955  40.728419  40.722992      Member      1984.0     Male  "
      ]
     },
     "execution_count": 15,
     "metadata": {},
     "output_type": "execute_result"
    }
   ],
   "source": [
    "nyc_data = pd.read_csv(\"/data/bikeshare/data/unified/nyc.csv\")\n",
    "boston_data = pd.read_csv(\"/data/bikeshare/data/unified/boston.csv\")\n",
    "main_data = pd.read_csv(\"/data/bikeshare/data/unified/merged.csv\")\n",
    "\n",
    "nyc = {'name':'New York City, NY', 'data':nyc_data}\n",
    "boston = {'name':'Boston, MA', 'data':boston_data}\n",
    "main = {'name':'All Data', 'data':main_data}\n",
    "nyc_data.head()"
   ]
  },
  {
   "cell_type": "markdown",
   "metadata": {},
   "source": [
    "### Gender and gender by usertype distribution"
   ]
  },
  {
   "cell_type": "code",
   "execution_count": 16,
   "metadata": {},
   "outputs": [],
   "source": [
    "def riders_by_gender(data):\n",
    "    gender = data['data'].gender\n",
    "    gender_plot = sns.countplot(x = 'gender', data=data['data'])"
   ]
  },
  {
   "cell_type": "code",
   "execution_count": 17,
   "metadata": {},
   "outputs": [],
   "source": [
    "def gender_by_user_type(data):\n",
    "    gender_by_usertype = sns.countplot(x = 'user_type', hue = 'gender', data = data['data'])"
   ]
  },
  {
   "cell_type": "code",
   "execution_count": 18,
   "metadata": {},
   "outputs": [
    {
     "data": {
      "image/png": "[encoded data removed]",
      "text/plain": [
       "<Figure size 432x288 with 1 Axes>"
      ]
     },
     "metadata": {
      "needs_background": "light"
     },
     "output_type": "display_data"
    }
   ],
   "source": [
    "riders_by_gender(nyc)"
   ]
  },
  {
   "cell_type": "code",
   "execution_count": 19,
   "metadata": {},
   "outputs": [
    {
     "data": {
      "image/png": "[encoded data removed]",
      "text/plain": [
       "<Figure size 432x288 with 1 Axes>"
      ]
     },
     "metadata": {
      "needs_background": "light"
     },
     "output_type": "display_data"
    }
   ],
   "source": [
    "riders_by_gender(boston)"
   ]
  },
  {
   "cell_type": "markdown",
   "metadata": {},
   "source": [
    "Throughout the bar plot, we can easily observe that the number of the make bikeshare is higher third times as that of the female bikeshare. Moreover, all female and male are subscriber (annual member) and all unknown people are customer (24-hour pass or 3-day pass user - non-member)."
   ]
  },
  {
   "cell_type": "markdown",
   "metadata": {},
   "source": [
    "## Distribution of Trip Duration"
   ]
  },
  {
   "cell_type": "code",
   "execution_count": 20,
   "metadata": {},
   "outputs": [
    {
     "name": "stdout",
     "output_type": "stream",
     "text": [
      "Total number of trips of New York Bikeshare: 5,562,321\n",
      "Trips from A -> A: 137,027\n",
      "Trips from A -> A: 2.5%\n"
     ]
    }
   ],
   "source": [
    "# How many trips went from Station A all the way to Station A\n",
    "# New York City\n",
    "totalTrips = len(nyc_data)\n",
    "same_station = nyc_data[nyc_data.start_station == nyc_data.end_station]\n",
    "tripDuration = same_station['duration']\n",
    "print ('Total number of trips of New York Bikeshare: {:,}'.format(totalTrips))\n",
    "print (('Trips from A -> A: {:,}').format(len(same_station)))\n",
    "print (('Trips from A -> A: {:.1%}').format(len(same_station) / totalTrips))\n",
    "    "
   ]
  },
  {
   "cell_type": "code",
   "execution_count": 21,
   "metadata": {},
   "outputs": [
    {
     "name": "stdout",
     "output_type": "stream",
     "text": [
      "Total number of trips of Boston Bikeshare: 1,579,025\n",
      "Trips from A -> A: 76,311\n",
      "Trips from A -> A: 4.8%\n"
     ]
    }
   ],
   "source": [
    "# How many trips went from Station A all the way to Station A\n",
    "# Boston\n",
    "totalTrips1 = len(boston_data)\n",
    "same_station1 = boston_data[boston_data.start_station == boston_data.end_station]\n",
    "tripDuration1 = same_station['duration']\n",
    "print ('Total number of trips of Boston Bikeshare: {:,}'.format(totalTrips1))\n",
    "print (('Trips from A -> A: {:,}').format(len(same_station1)))\n",
    "print (('Trips from A -> A: {:.1%}').format(len(same_station1) / totalTrips1))\n",
    "    "
   ]
  },
  {
   "cell_type": "code",
   "execution_count": 22,
   "metadata": {},
   "outputs": [
    {
     "data": {
      "text/plain": [
       "count    137027.000000\n",
       "mean         23.085907\n",
       "std          70.636620\n",
       "min           1.000000\n",
       "25%           3.250000\n",
       "50%          12.983333\n",
       "75%          28.966667\n",
       "max       10019.616667\n",
       "Name: duration, dtype: float64"
      ]
     },
     "execution_count": 22,
     "metadata": {},
     "output_type": "execute_result"
    }
   ],
   "source": [
    "# General distribution information about trip duration in New York City\n",
    "tripDuration = same_station['duration']\n",
    "tripDuration.describe()"
   ]
  },
  {
   "cell_type": "code",
   "execution_count": 23,
   "metadata": {},
   "outputs": [
    {
     "data": {
      "text/plain": [
       "count    7.631100e+04\n",
       "mean     3.247803e+03\n",
       "std      1.445736e+04\n",
       "min      0.000000e+00\n",
       "25%      5.400000e+02\n",
       "50%      1.527000e+03\n",
       "75%      3.474000e+03\n",
       "max      2.645243e+06\n",
       "Name: duration, dtype: float64"
      ]
     },
     "execution_count": 23,
     "metadata": {},
     "output_type": "execute_result"
    }
   ],
   "source": [
    "# General distribution information about trip duration in New York City\n",
    "tripDuration1 = same_station1['duration']\n",
    "tripDuration1.describe()"
   ]
  },
  {
   "cell_type": "code",
   "execution_count": 24,
   "metadata": {},
   "outputs": [
    {
     "data": {
      "text/plain": [
       "Text(0.5, 1.0, 'General New York Trip Duration Distribution')"
      ]
     },
     "execution_count": 24,
     "metadata": {},
     "output_type": "execute_result"
    },
    {
     "data": {
      "image/png": "[encoded data removed]",
      "text/plain": [
       "<Figure size 432x288 with 1 Axes>"
      ]
     },
     "metadata": {
      "needs_background": "light"
     },
     "output_type": "display_data"
    }
   ],
   "source": [
    "# check out trip in minutes distribution\n",
    "# New York City\n",
    "tripDuration[tripDuration < tripDuration.quantile(.95)].plot(kind='hist')\n",
    "plt.xlabel('time (minutes)')\n",
    "plt.title('General New York Trip Duration Distribution')"
   ]
  },
  {
   "cell_type": "code",
   "execution_count": 25,
   "metadata": {},
   "outputs": [
    {
     "data": {
      "text/plain": [
       "Text(0.5, 1.0, 'General Boston Trip Duration Distribution')"
      ]
     },
     "execution_count": 25,
     "metadata": {},
     "output_type": "execute_result"
    },
    {
     "data": {
      "image/png": "[encoded data removed]",
      "text/plain": [
       "<Figure size 432x288 with 1 Axes>"
      ]
     },
     "metadata": {
      "needs_background": "light"
     },
     "output_type": "display_data"
    }
   ],
   "source": [
    "# check out trip in minutes distribution\n",
    "# Boston\n",
    "tripDuration1[tripDuration1 < tripDuration1.quantile(.95)].plot(kind='hist')\n",
    "plt.xlabel('time (minutes)')\n",
    "plt.title('General Boston Trip Duration Distribution')"
   ]
  },
  {
   "cell_type": "code",
   "execution_count": 26,
   "metadata": {},
   "outputs": [
    {
     "data": {
      "text/plain": [
       "Text(0.5, 1.0, 'Distribution of same station trip by user type in New York City')"
      ]
     },
     "execution_count": 26,
     "metadata": {},
     "output_type": "execute_result"
    },
    {
     "data": {
      "image/png": "[encoded data removed]",
      "text/plain": [
       "<Figure size 432x288 with 1 Axes>"
      ]
     },
     "metadata": {
      "needs_background": "light"
     },
     "output_type": "display_data"
    }
   ],
   "source": [
    "# distribution grouped by subscriber type\n",
    "# New York City\n",
    "same_station[tripDuration < tripDuration.quantile(.95)].groupby('user_type')['duration'].plot(kind='hist', stacked=True, legend=True)\n",
    "plt.xlabel('time (minutes)')\n",
    "plt.title('Distribution of same station trip by user type in New York City')"
   ]
  },
  {
   "cell_type": "code",
   "execution_count": 27,
   "metadata": {},
   "outputs": [
    {
     "data": {
      "text/plain": [
       "Text(0.5, 1.0, 'Distribution of same station trip by user type in Boston')"
      ]
     },
     "execution_count": 27,
     "metadata": {},
     "output_type": "execute_result"
    },
    {
     "data": {
      "image/png": "[encoded data removed]",
      "text/plain": [
       "<Figure size 432x288 with 1 Axes>"
      ]
     },
     "metadata": {
      "needs_background": "light"
     },
     "output_type": "display_data"
    }
   ],
   "source": [
    "# distribution grouped by subscriber type\n",
    "# Boston\n",
    "same_station1[tripDuration1 < tripDuration1.quantile(.95)].groupby('user_type')['duration'].plot(kind='hist', stacked=True, legend=True)\n",
    "plt.xlabel('time (minutes)')\n",
    "plt.title('Distribution of same station trip by user type in Boston')"
   ]
  },
  {
   "cell_type": "markdown",
   "metadata": {},
   "source": [
    "### The first 30 minutes of each ride are included in the price of the pass, and you can take as many rides as you want while your pass is active. If you keep a bike out for more than 30 minutes at a time, it's an extra $4 per additional 15 minutes. Therefore, I will look up for the distribution of trip duration less than 30 minutes."
   ]
  },
  {
   "cell_type": "code",
   "execution_count": 28,
   "metadata": {},
   "outputs": [
    {
     "data": {
      "text/plain": [
       "Text(0.5, 1.0, 'Trip Duration (<30) distribution in New York')"
      ]
     },
     "execution_count": 28,
     "metadata": {},
     "output_type": "execute_result"
    },
    {
     "data": {
      "image/png": "[encoded data removed]",
      "text/plain": [
       "<Figure size 432x288 with 1 Axes>"
      ]
     },
     "metadata": {
      "needs_background": "light"
     },
     "output_type": "display_data"
    }
   ],
   "source": [
    "# New york City\n",
    "same_station[same_station['duration'] < 30] \\\n",
    "    .groupby('user_type')['duration'] \\\n",
    "    .plot(kind='hist', stacked=True, legend=True, bins=20)\n",
    "plt.xlabel('time (minutes)')\n",
    "plt.title('Trip Duration (<30) distribution in New York')"
   ]
  },
  {
   "cell_type": "code",
   "execution_count": 29,
   "metadata": {},
   "outputs": [
    {
     "data": {
      "text/plain": [
       "Text(0.5, 1.0, 'Trip Duration (<30) distribution in Boston')"
      ]
     },
     "execution_count": 29,
     "metadata": {},
     "output_type": "execute_result"
    },
    {
     "data": {
      "image/png": "[encoded data removed]",
      "text/plain": [
       "<Figure size 432x288 with 1 Axes>"
      ]
     },
     "metadata": {
      "needs_background": "light"
     },
     "output_type": "display_data"
    }
   ],
   "source": [
    "# Boston\n",
    "same_station1[same_station1['duration'] < 30] \\\n",
    "    .groupby('user_type')['duration'] \\\n",
    "    .plot(kind='hist', stacked=True, legend=True, bins=20)\n",
    "plt.xlabel('time (minutes)')\n",
    "plt.title('Trip Duration (<30) distribution in Boston')"
   ]
  },
  {
   "cell_type": "markdown",
   "metadata": {},
   "source": [
    "We notice that lots of trip duration are less than 3 minutes. We can regard less than three-minute trip duration is the accidental checkouts."
   ]
  },
  {
   "cell_type": "code",
   "execution_count": 30,
   "metadata": {},
   "outputs": [
    {
     "name": "stdout",
     "output_type": "stream",
     "text": [
      "The number of accidental checkouts in New York is about 32668\n"
     ]
    }
   ],
   "source": [
    "# Approximate the number of accidental checkouts\n",
    "# New York\n",
    "old_count = len(same_station)\n",
    "same_station = same_station[same_station.duration >3]\n",
    "new_count = len(same_station)\n",
    "accidental_checkout = old_count - new_count\n",
    "print('The number of accidental checkouts in New York is about {}'.format(accidental_checkout))"
   ]
  },
  {
   "cell_type": "code",
   "execution_count": 31,
   "metadata": {},
   "outputs": [
    {
     "name": "stdout",
     "output_type": "stream",
     "text": [
      "The number of accidental checkouts in Boston is about 4751\n"
     ]
    }
   ],
   "source": [
    "# Approximate the number of accidental checkouts\n",
    "# Boston\n",
    "old_count = len(same_station1)\n",
    "same_station1 = same_station1[same_station1.duration >3]\n",
    "new_count = len(same_station1)\n",
    "accidental_checkout = old_count - new_count\n",
    "print('The number of accidental checkouts in Boston is about {}'.format(accidental_checkout))"
   ]
  },
  {
   "cell_type": "code",
   "execution_count": 32,
   "metadata": {},
   "outputs": [
    {
     "data": {
      "text/plain": [
       "Text(0.5, 1.0, 'Duration Distribution in New York City without the accidental checkouts')"
      ]
     },
     "execution_count": 32,
     "metadata": {},
     "output_type": "execute_result"
    },
    {
     "data": {
      "image/png": "[encoded data removed]",
      "text/plain": [
       "<Figure size 432x288 with 1 Axes>"
      ]
     },
     "metadata": {
      "needs_background": "light"
     },
     "output_type": "display_data"
    }
   ],
   "source": [
    "# Examine the < 30 minutes trip duration again after dropping the accidental checkouts\n",
    "# New York City\n",
    "same_station[same_station['duration'] < 30] \\\n",
    "    .groupby('user_type')['duration'] \\\n",
    "    .plot(kind='hist', stacked=True, legend=True, bins=20)\n",
    "plt.xlabel('time (minutes)')\n",
    "plt.title('Duration Distribution in New York City without the accidental checkouts')"
   ]
  },
  {
   "cell_type": "code",
   "execution_count": 33,
   "metadata": {},
   "outputs": [
    {
     "data": {
      "text/plain": [
       "Text(0.5, 1.0, 'Duration Distribution in Boston without the accidental checkouts')"
      ]
     },
     "execution_count": 33,
     "metadata": {},
     "output_type": "execute_result"
    },
    {
     "data": {
      "image/png": "[encoded data removed]",
      "text/plain": [
       "<Figure size 432x288 with 1 Axes>"
      ]
     },
     "metadata": {
      "needs_background": "light"
     },
     "output_type": "display_data"
    }
   ],
   "source": [
    "# Examine the < 30 minutes trip duration again after dropping the accidental checkouts\n",
    "# Boston\n",
    "same_station1[same_station1['duration'] < 30] \\\n",
    "    .groupby('user_type')['duration'] \\\n",
    "    .plot(kind='hist', stacked=True, legend=True, bins=20)\n",
    "plt.xlabel('time (minutes)')\n",
    "plt.title('Duration Distribution in Boston without the accidental checkouts')"
   ]
  },
  {
   "cell_type": "markdown",
   "metadata": {},
   "source": [
    "### Analysis\n",
    "Through the graphs of New York City and Bostion duration distribution without accidental checkouts, we observe that there are few people who are non-members rent the bikeshare with duration time less than 30 minutes while lots people in New York City rent the bikeshare with duration time less than 30 minutes (both members and non-members). However, the range of duration time between New York City and Boston varies a lot: New York City is from 0 to 70 (minutes) and Boston is from 0 - 9000 (minutes). It means that people often rent the bike day by day (short time) in New York City while people in Boston often rent the bike for a whole week (they regard bike as the main vehicle). Therefore, we can see in the graphs that the user type of poeple in Boston are annual member while that in New York varies between subscriber and customer a lot."
   ]
  },
  {
   "cell_type": "code",
   "execution_count": null,
   "metadata": {},
   "outputs": [],
   "source": []
  }
 ],
 "metadata": {
  "kernelspec": {
   "display_name": "Python 3",
   "language": "python",
   "name": "python3"
  },
  "language_info": {
   "codemirror_mode": {
    "name": "ipython",
    "version": 3
   },
   "file_extension": ".py",
   "mimetype": "text/x-python",
   "name": "python",
   "nbconvert_exporter": "python",
   "pygments_lexer": "ipython3",
   "version": "3.7.0"
  }
 },
 "nbformat": 4,
 "nbformat_minor": 2
}
