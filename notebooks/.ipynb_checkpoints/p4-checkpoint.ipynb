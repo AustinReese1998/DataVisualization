{
 "cells": [
  {
   "cell_type": "markdown",
   "metadata": {},
   "source": [
    "# From Here to There"
   ]
  },
  {
   "cell_type": "code",
   "execution_count": 229,
   "metadata": {},
   "outputs": [],
   "source": [
    "import pandas as pd\n",
    "import numpy as np\n",
    "import matplotlib as mpl\n",
    "import matplotlib.pyplot as plt"
   ]
  },
  {
   "cell_type": "code",
   "execution_count": 230,
   "metadata": {},
   "outputs": [],
   "source": [
    "from ipywidgets import interact, interactive, fixed, interact_manual\n",
    "import ipywidgets as widgets"
   ]
  },
  {
   "cell_type": "code",
   "execution_count": 231,
   "metadata": {},
   "outputs": [],
   "source": [
    "nyc_data = pd.read_csv(\"/data/bikeshare/data/unified/nyc.csv\")\n",
    "boston_data = pd.read_csv(\"/data/bikeshare/data/unified/boston.csv\")\n",
    "main_data = pd.read_csv(\"/data/bikeshare/data/unified/merged.csv\")"
   ]
  },
  {
   "cell_type": "code",
   "execution_count": 232,
   "metadata": {},
   "outputs": [],
   "source": [
    "nyc = {'name':'New York City', 'data':nyc_data, 'ref':'nyc'}\n",
    "boston = {'name':'Boston', 'data':boston_data, 'ref':'bos'}\n",
    "main = {'name':'All Data', 'data':main_data, 'ref':'all'}"
   ]
  },
  {
   "cell_type": "markdown",
   "metadata": {},
   "source": [
    "## Interactive Chart"
   ]
  },
  {
   "cell_type": "code",
   "execution_count": 277,
   "metadata": {},
   "outputs": [],
   "source": [
    "def visited_station_data(location):\n",
    "    data = location['data']\n",
    "    # Remove trips to the same station\n",
    "    diff_station = data[data['start_station'] != data['end_station']]\n",
    "    # Find next stations\n",
    "    trip_summaries = diff_station[['start_station','end_station','duration']].groupby(['start_station','end_station']).count().rename(columns={'duration':'count'})\n",
    "    trip_summaries_ri = trip_summaries.reset_index()\n",
    "    # Unique station values \n",
    "    s_names = diff_station['start_station']\n",
    "  \n",
    "    def barh_next_station(station_name):\n",
    "        \n",
    "        # returns next stations based on station name\n",
    "        def next_station_count(station_name):\n",
    "            return trip_summaries_ri[trip_summaries_ri.start_station == station_name][['end_station','count']].set_index('end_station')\n",
    "        \n",
    "        d = next_station_count(station_name).reset_index().sort_values('count', ascending=False).head(20)\n",
    "        # Plot the graph\n",
    "        plt.barh(d['end_station'], d['count'])\n",
    "        plt.title('Stations visited starting {}'.format(s_names[station_num]))\n",
    "        fig = plt.gcf()\n",
    "        fig.set_size_inches(5, 6)\n",
    "        plt.show()\n",
    "    \n",
    "    interact(barh_next_station, station_name=s_names)\n"
   ]
  },
  {
   "cell_type": "code",
   "execution_count": 274,
   "metadata": {},
   "outputs": [
    {
     "ename": "NameError",
     "evalue": "name 'station_name' is not defined",
     "output_type": "error",
     "traceback": [
      "\u001b[0;31m---------------------------------------------------------------------------\u001b[0m",
      "\u001b[0;31mNameError\u001b[0m                                 Traceback (most recent call last)",
      "\u001b[0;32m<ipython-input-274-bc0651837e1a>\u001b[0m in \u001b[0;36m<module>\u001b[0;34m\u001b[0m\n\u001b[0;32m----> 1\u001b[0;31m \u001b[0mvisited_station_data\u001b[0m\u001b[0;34m(\u001b[0m\u001b[0mboston\u001b[0m\u001b[0;34m)\u001b[0m\u001b[0;34m\u001b[0m\u001b[0m\n\u001b[0m",
      "\u001b[0;32m<ipython-input-273-c7ddec266e26>\u001b[0m in \u001b[0;36mvisited_station_data\u001b[0;34m(location)\u001b[0m\n\u001b[1;32m      9\u001b[0m     \u001b[0ms_names\u001b[0m \u001b[0;34m=\u001b[0m \u001b[0mdiff_station\u001b[0m\u001b[0;34m[\u001b[0m\u001b[0;34m'start_station'\u001b[0m\u001b[0;34m]\u001b[0m\u001b[0;34m\u001b[0m\u001b[0m\n\u001b[1;32m     10\u001b[0m \u001b[0;34m\u001b[0m\u001b[0m\n\u001b[0;32m---> 11\u001b[0;31m     \u001b[0;32mreturn\u001b[0m \u001b[0mnext_station_count\u001b[0m\u001b[0;34m(\u001b[0m\u001b[0mstation_name\u001b[0m\u001b[0;34m)\u001b[0m\u001b[0;34m.\u001b[0m\u001b[0mreset_index\u001b[0m\u001b[0;34m(\u001b[0m\u001b[0;34m)\u001b[0m\u001b[0;34m.\u001b[0m\u001b[0msort_values\u001b[0m\u001b[0;34m(\u001b[0m\u001b[0;34m'count'\u001b[0m\u001b[0;34m,\u001b[0m \u001b[0mascending\u001b[0m\u001b[0;34m=\u001b[0m\u001b[0;32mFalse\u001b[0m\u001b[0;34m)\u001b[0m\u001b[0;34m.\u001b[0m\u001b[0mhead\u001b[0m\u001b[0;34m(\u001b[0m\u001b[0;36m20\u001b[0m\u001b[0;34m)\u001b[0m\u001b[0;34m\u001b[0m\u001b[0m\n\u001b[0m\u001b[1;32m     12\u001b[0m \u001b[0;34m\u001b[0m\u001b[0m\n\u001b[1;32m     13\u001b[0m     \u001b[0;32mdef\u001b[0m \u001b[0mbarh_next_station\u001b[0m\u001b[0;34m(\u001b[0m\u001b[0mstation_name\u001b[0m\u001b[0;34m)\u001b[0m\u001b[0;34m:\u001b[0m\u001b[0;34m\u001b[0m\u001b[0m\n",
      "\u001b[0;31mNameError\u001b[0m: name 'station_name' is not defined"
     ]
    }
   ],
   "source": [
    "visited_station_data(boston)"
   ]
  },
  {
   "cell_type": "code",
   "execution_count": 131,
   "metadata": {},
   "outputs": [],
   "source": [
    "def f(x):\n",
    "    plt.plot(np.arange(0,10), x*np.arange(0,10))\n",
    "    plt.ylim(-30,30)"
   ]
  },
  {
   "cell_type": "code",
   "execution_count": 136,
   "metadata": {},
   "outputs": [
    {
     "data": {
      "application/vnd.jupyter.widget-view+json": {
       "model_id": "b5db76266e3a493288df7bbe8392222b",
       "version_major": 2,
       "version_minor": 0
      },
      "text/plain": [
       "interactive(children=(FloatSlider(value=0.0, description='x', max=10.0, min=-10.0, step=0.25), Output()), _dom…"
      ]
     },
     "metadata": {},
     "output_type": "display_data"
    },
    {
     "data": {
      "text/plain": [
       "<function __main__.f(x)>"
      ]
     },
     "execution_count": 136,
     "metadata": {},
     "output_type": "execute_result"
    }
   ],
   "source": [
    "interact(f, x=(-10, 10, 0.25))"
   ]
  }
 ],
 "metadata": {
  "kernelspec": {
   "display_name": "Python 3",
   "language": "python",
   "name": "python3"
  },
  "language_info": {
   "codemirror_mode": {
    "name": "ipython",
    "version": 3
   },
   "file_extension": ".py",
   "mimetype": "text/x-python",
   "name": "python",
   "nbconvert_exporter": "python",
   "pygments_lexer": "ipython3",
   "version": "3.7.0"
  }
 },
 "nbformat": 4,
 "nbformat_minor": 2
}
